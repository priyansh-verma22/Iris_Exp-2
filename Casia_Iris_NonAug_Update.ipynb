{
  "nbformat": 4,
  "nbformat_minor": 0,
  "metadata": {
    "colab": {
      "provenance": [],
      "gpuType": "T4"
    },
    "kernelspec": {
      "name": "python3",
      "display_name": "Python 3"
    },
    "language_info": {
      "name": "python"
    },
    "accelerator": "GPU"
  },
  "cells": [
    {
      "cell_type": "code",
      "execution_count": 1,
      "metadata": {
        "id": "Zfp5tVM3p9Yr"
      },
      "outputs": [],
      "source": [
        "import zipfile\n",
        "import os\n",
        "\n",
        "zip_path = \"/content/CASIA-Iris-Interval-20250617T034139Z-1-001.zip\"  # Replace with your actual filename\n",
        "with zipfile.ZipFile(zip_path, 'r') as zip_ref:\n",
        "    zip_ref.extractall(\"unzipped_Iris-Interval\")"
      ]
    },
    {
      "cell_type": "code",
      "source": [
        "import os\n",
        "import shutil\n",
        "import random\n",
        "\n",
        "def get_all_images_recursive(class_path):\n",
        "    images = []\n",
        "    for root, _, files in os.walk(class_path):\n",
        "        for file in files:\n",
        "            if file.lower().endswith(('.jpg', '.jpeg', '.png')):\n",
        "                images.append(os.path.join(root, file))\n",
        "    return images\n",
        "\n",
        "def split_dataset(input_dir, output_dir, train_ratio=0.625, val_ratio=0.25, test_ratio=0.125):\n",
        "    # Set random seed for reproducibility\n",
        "    random.seed(42)\n",
        "\n",
        "    # Clear output directory to prevent duplicate images\n",
        "    if os.path.exists(output_dir):\n",
        "        shutil.rmtree(output_dir)\n",
        "    os.makedirs(output_dir, exist_ok=True)\n",
        "\n",
        "    class_names = os.listdir(input_dir)\n",
        "    total_images = 0\n",
        "\n",
        "    # Count total images across all classes\n",
        "    for class_name in class_names:\n",
        "        class_path = os.path.join(input_dir, class_name)\n",
        "        if not os.path.isdir(class_path):\n",
        "            continue\n",
        "        images = get_all_images_recursive(class_path)\n",
        "        total_images += len(images)\n",
        "    print(f\"Total images in input directory: {total_images}\")\n",
        "\n",
        "    # Split images for each class\n",
        "    for class_name in class_names:\n",
        "        class_path = os.path.join(input_dir, class_name)\n",
        "        if not os.path.isdir(class_path):\n",
        "            continue\n",
        "\n",
        "        images = get_all_images_recursive(class_path)\n",
        "        random.shuffle(images)\n",
        "\n",
        "        total = len(images)\n",
        "        train_end = int(train_ratio * total)\n",
        "        val_end = train_end + int(val_ratio * total)\n",
        "\n",
        "        train_imgs = images[:train_end]\n",
        "        val_imgs = images[train_end:val_end]\n",
        "        test_imgs = images[val_end:]\n",
        "\n",
        "        for split_name, split_imgs in zip(['train', 'val', 'test'], [train_imgs, val_imgs, test_imgs]):\n",
        "            split_dir = os.path.join(output_dir, split_name, class_name)\n",
        "            os.makedirs(split_dir, exist_ok=True)\n",
        "            for img_path in split_imgs:\n",
        "                img_name = os.path.basename(img_path)\n",
        "                dst = os.path.join(split_dir, img_name)\n",
        "                shutil.copy2(img_path, dst)\n",
        "            print(f\"Copied {len(split_imgs)} images to {split_dir}\")\n",
        "\n",
        "input_dataset_folder = \"/content/unzipped_Iris-Interval/CASIA-Iris-Interval\"\n",
        "output_dataset_folder = \"/content/split_dataset\"\n",
        "split_dataset(input_dataset_folder, output_dataset_folder)"
      ],
      "metadata": {
        "colab": {
          "base_uri": "https://localhost:8080/"
        },
        "id": "f1FEZL4Aqaat",
        "outputId": "f5cdb22e-efb7-4b0f-9e3b-ac74f581f3c5"
      },
      "execution_count": 2,
      "outputs": [
        {
          "output_type": "stream",
          "name": "stdout",
          "text": [
            "Total images in input directory: 2639\n",
            "Copied 8 images to /content/split_dataset/train/101\n",
            "Copied 3 images to /content/split_dataset/val/101\n",
            "Copied 3 images to /content/split_dataset/test/101\n",
            "Copied 8 images to /content/split_dataset/train/126\n",
            "Copied 3 images to /content/split_dataset/val/126\n",
            "Copied 3 images to /content/split_dataset/test/126\n",
            "Copied 9 images to /content/split_dataset/train/147\n",
            "Copied 3 images to /content/split_dataset/val/147\n",
            "Copied 3 images to /content/split_dataset/test/147\n",
            "Copied 2 images to /content/split_dataset/train/229\n",
            "Copied 1 images to /content/split_dataset/val/229\n",
            "Copied 1 images to /content/split_dataset/test/229\n",
            "Copied 5 images to /content/split_dataset/train/196\n",
            "Copied 2 images to /content/split_dataset/val/196\n",
            "Copied 2 images to /content/split_dataset/test/196\n",
            "Copied 2 images to /content/split_dataset/train/224\n",
            "Copied 1 images to /content/split_dataset/val/224\n",
            "Copied 1 images to /content/split_dataset/test/224\n",
            "Copied 6 images to /content/split_dataset/train/148\n",
            "Copied 2 images to /content/split_dataset/val/148\n",
            "Copied 2 images to /content/split_dataset/test/148\n",
            "Copied 8 images to /content/split_dataset/train/115\n",
            "Copied 3 images to /content/split_dataset/val/115\n",
            "Copied 3 images to /content/split_dataset/test/115\n",
            "Copied 11 images to /content/split_dataset/train/150\n",
            "Copied 4 images to /content/split_dataset/val/150\n",
            "Copied 4 images to /content/split_dataset/test/150\n",
            "Copied 8 images to /content/split_dataset/train/086\n",
            "Copied 3 images to /content/split_dataset/val/086\n",
            "Copied 3 images to /content/split_dataset/test/086\n",
            "Copied 8 images to /content/split_dataset/train/113\n",
            "Copied 3 images to /content/split_dataset/val/113\n",
            "Copied 3 images to /content/split_dataset/test/113\n",
            "Copied 5 images to /content/split_dataset/train/213\n",
            "Copied 2 images to /content/split_dataset/val/213\n",
            "Copied 1 images to /content/split_dataset/test/213\n",
            "Copied 7 images to /content/split_dataset/train/099\n",
            "Copied 3 images to /content/split_dataset/val/099\n",
            "Copied 2 images to /content/split_dataset/test/099\n",
            "Copied 8 images to /content/split_dataset/train/134\n",
            "Copied 3 images to /content/split_dataset/val/134\n",
            "Copied 3 images to /content/split_dataset/test/134\n",
            "Copied 3 images to /content/split_dataset/train/149\n",
            "Copied 1 images to /content/split_dataset/val/149\n",
            "Copied 1 images to /content/split_dataset/test/149\n",
            "Copied 7 images to /content/split_dataset/train/066\n",
            "Copied 3 images to /content/split_dataset/val/066\n",
            "Copied 2 images to /content/split_dataset/test/066\n",
            "Copied 0 images to /content/split_dataset/train/180\n",
            "Copied 0 images to /content/split_dataset/val/180\n",
            "Copied 1 images to /content/split_dataset/test/180\n",
            "Copied 3 images to /content/split_dataset/train/145\n",
            "Copied 1 images to /content/split_dataset/val/145\n",
            "Copied 1 images to /content/split_dataset/test/145\n",
            "Copied 5 images to /content/split_dataset/train/203\n",
            "Copied 2 images to /content/split_dataset/val/203\n",
            "Copied 2 images to /content/split_dataset/test/203\n",
            "Copied 12 images to /content/split_dataset/train/095\n",
            "Copied 5 images to /content/split_dataset/val/095\n",
            "Copied 3 images to /content/split_dataset/test/095\n",
            "Copied 3 images to /content/split_dataset/train/187\n",
            "Copied 1 images to /content/split_dataset/val/187\n",
            "Copied 1 images to /content/split_dataset/test/187\n",
            "Copied 3 images to /content/split_dataset/train/032\n",
            "Copied 1 images to /content/split_dataset/val/032\n",
            "Copied 1 images to /content/split_dataset/test/032\n",
            "Copied 8 images to /content/split_dataset/train/080\n",
            "Copied 3 images to /content/split_dataset/val/080\n",
            "Copied 3 images to /content/split_dataset/test/080\n",
            "Copied 4 images to /content/split_dataset/train/013\n",
            "Copied 1 images to /content/split_dataset/val/013\n",
            "Copied 2 images to /content/split_dataset/test/013\n",
            "Copied 2 images to /content/split_dataset/train/045\n",
            "Copied 1 images to /content/split_dataset/val/045\n",
            "Copied 1 images to /content/split_dataset/test/045\n",
            "Copied 8 images to /content/split_dataset/train/118\n",
            "Copied 3 images to /content/split_dataset/val/118\n",
            "Copied 2 images to /content/split_dataset/test/118\n",
            "Copied 8 images to /content/split_dataset/train/105\n",
            "Copied 3 images to /content/split_dataset/val/105\n",
            "Copied 3 images to /content/split_dataset/test/105\n",
            "Copied 12 images to /content/split_dataset/train/182\n",
            "Copied 5 images to /content/split_dataset/val/182\n",
            "Copied 3 images to /content/split_dataset/test/182\n",
            "Copied 5 images to /content/split_dataset/train/199\n",
            "Copied 2 images to /content/split_dataset/val/199\n",
            "Copied 1 images to /content/split_dataset/test/199\n",
            "Copied 12 images to /content/split_dataset/train/159\n",
            "Copied 5 images to /content/split_dataset/val/159\n",
            "Copied 3 images to /content/split_dataset/test/159\n",
            "Copied 14 images to /content/split_dataset/train/044\n",
            "Copied 5 images to /content/split_dataset/val/044\n",
            "Copied 4 images to /content/split_dataset/test/044\n",
            "Copied 8 images to /content/split_dataset/train/062\n",
            "Copied 3 images to /content/split_dataset/val/062\n",
            "Copied 3 images to /content/split_dataset/test/062\n",
            "Copied 6 images to /content/split_dataset/train/221\n",
            "Copied 2 images to /content/split_dataset/val/221\n",
            "Copied 2 images to /content/split_dataset/test/221\n",
            "Copied 3 images to /content/split_dataset/train/165\n",
            "Copied 1 images to /content/split_dataset/val/165\n",
            "Copied 2 images to /content/split_dataset/test/165\n",
            "Copied 11 images to /content/split_dataset/train/173\n",
            "Copied 4 images to /content/split_dataset/val/173\n",
            "Copied 4 images to /content/split_dataset/test/173\n",
            "Copied 8 images to /content/split_dataset/train/098\n",
            "Copied 3 images to /content/split_dataset/val/098\n",
            "Copied 3 images to /content/split_dataset/test/098\n",
            "Copied 1 images to /content/split_dataset/train/204\n",
            "Copied 0 images to /content/split_dataset/val/204\n",
            "Copied 1 images to /content/split_dataset/test/204\n",
            "Copied 2 images to /content/split_dataset/train/208\n",
            "Copied 1 images to /content/split_dataset/val/208\n",
            "Copied 1 images to /content/split_dataset/test/208\n",
            "Copied 6 images to /content/split_dataset/train/154\n",
            "Copied 2 images to /content/split_dataset/val/154\n",
            "Copied 2 images to /content/split_dataset/test/154\n",
            "Copied 3 images to /content/split_dataset/train/181\n",
            "Copied 1 images to /content/split_dataset/val/181\n",
            "Copied 1 images to /content/split_dataset/test/181\n",
            "Copied 5 images to /content/split_dataset/train/219\n",
            "Copied 2 images to /content/split_dataset/val/219\n",
            "Copied 1 images to /content/split_dataset/test/219\n",
            "Copied 3 images to /content/split_dataset/train/016\n",
            "Copied 1 images to /content/split_dataset/val/016\n",
            "Copied 1 images to /content/split_dataset/test/016\n",
            "Copied 12 images to /content/split_dataset/train/033\n",
            "Copied 5 images to /content/split_dataset/val/033\n",
            "Copied 3 images to /content/split_dataset/test/033\n",
            "Copied 5 images to /content/split_dataset/train/238\n",
            "Copied 2 images to /content/split_dataset/val/238\n",
            "Copied 1 images to /content/split_dataset/test/238\n",
            "Copied 3 images to /content/split_dataset/train/018\n",
            "Copied 1 images to /content/split_dataset/val/018\n",
            "Copied 1 images to /content/split_dataset/test/018\n",
            "Copied 8 images to /content/split_dataset/train/114\n",
            "Copied 3 images to /content/split_dataset/val/114\n",
            "Copied 3 images to /content/split_dataset/test/114\n",
            "Copied 4 images to /content/split_dataset/train/172\n",
            "Copied 1 images to /content/split_dataset/val/172\n",
            "Copied 2 images to /content/split_dataset/test/172\n",
            "Copied 8 images to /content/split_dataset/train/111\n",
            "Copied 3 images to /content/split_dataset/val/111\n",
            "Copied 3 images to /content/split_dataset/test/111\n",
            "Copied 3 images to /content/split_dataset/train/197\n",
            "Copied 1 images to /content/split_dataset/val/197\n",
            "Copied 1 images to /content/split_dataset/test/197\n",
            "Copied 2 images to /content/split_dataset/train/029\n",
            "Copied 1 images to /content/split_dataset/val/029\n",
            "Copied 1 images to /content/split_dataset/test/029\n",
            "Copied 1 images to /content/split_dataset/train/223\n",
            "Copied 0 images to /content/split_dataset/val/223\n",
            "Copied 2 images to /content/split_dataset/test/223\n",
            "Copied 3 images to /content/split_dataset/train/143\n",
            "Copied 1 images to /content/split_dataset/val/143\n",
            "Copied 1 images to /content/split_dataset/test/143\n",
            "Copied 12 images to /content/split_dataset/train/007\n",
            "Copied 5 images to /content/split_dataset/val/007\n",
            "Copied 3 images to /content/split_dataset/test/007\n",
            "Copied 10 images to /content/split_dataset/train/202\n",
            "Copied 4 images to /content/split_dataset/val/202\n",
            "Copied 3 images to /content/split_dataset/test/202\n",
            "Copied 13 images to /content/split_dataset/train/019\n",
            "Copied 5 images to /content/split_dataset/val/019\n",
            "Copied 4 images to /content/split_dataset/test/019\n",
            "Copied 8 images to /content/split_dataset/train/108\n",
            "Copied 3 images to /content/split_dataset/val/108\n",
            "Copied 3 images to /content/split_dataset/test/108\n",
            "Copied 8 images to /content/split_dataset/train/110\n",
            "Copied 3 images to /content/split_dataset/val/110\n",
            "Copied 3 images to /content/split_dataset/test/110\n",
            "Copied 5 images to /content/split_dataset/train/082\n",
            "Copied 2 images to /content/split_dataset/val/082\n",
            "Copied 2 images to /content/split_dataset/test/082\n",
            "Copied 8 images to /content/split_dataset/train/077\n",
            "Copied 3 images to /content/split_dataset/val/077\n",
            "Copied 2 images to /content/split_dataset/test/077\n",
            "Copied 8 images to /content/split_dataset/train/137\n",
            "Copied 3 images to /content/split_dataset/val/137\n",
            "Copied 3 images to /content/split_dataset/test/137\n",
            "Copied 3 images to /content/split_dataset/train/012\n",
            "Copied 1 images to /content/split_dataset/val/012\n",
            "Copied 2 images to /content/split_dataset/test/012\n",
            "Copied 1 images to /content/split_dataset/train/017\n",
            "Copied 0 images to /content/split_dataset/val/017\n",
            "Copied 2 images to /content/split_dataset/test/017\n",
            "Copied 12 images to /content/split_dataset/train/179\n",
            "Copied 5 images to /content/split_dataset/val/179\n",
            "Copied 3 images to /content/split_dataset/test/179\n",
            "Copied 55 images to /content/split_dataset/train/010\n",
            "Copied 22 images to /content/split_dataset/val/010\n",
            "Copied 12 images to /content/split_dataset/test/010\n",
            "Copied 12 images to /content/split_dataset/train/170\n",
            "Copied 5 images to /content/split_dataset/val/170\n",
            "Copied 3 images to /content/split_dataset/test/170\n",
            "Copied 1 images to /content/split_dataset/train/232\n",
            "Copied 0 images to /content/split_dataset/val/232\n",
            "Copied 2 images to /content/split_dataset/test/232\n",
            "Copied 4 images to /content/split_dataset/train/038\n",
            "Copied 1 images to /content/split_dataset/val/038\n",
            "Copied 2 images to /content/split_dataset/test/038\n",
            "Copied 8 images to /content/split_dataset/train/130\n",
            "Copied 3 images to /content/split_dataset/val/130\n",
            "Copied 2 images to /content/split_dataset/test/130\n",
            "Copied 12 images to /content/split_dataset/train/116\n",
            "Copied 5 images to /content/split_dataset/val/116\n",
            "Copied 3 images to /content/split_dataset/test/116\n",
            "Copied 7 images to /content/split_dataset/train/122\n",
            "Copied 3 images to /content/split_dataset/val/122\n",
            "Copied 2 images to /content/split_dataset/test/122\n",
            "Copied 8 images to /content/split_dataset/train/063\n",
            "Copied 3 images to /content/split_dataset/val/063\n",
            "Copied 3 images to /content/split_dataset/test/063\n",
            "Copied 8 images to /content/split_dataset/train/058\n",
            "Copied 3 images to /content/split_dataset/val/058\n",
            "Copied 3 images to /content/split_dataset/test/058\n",
            "Copied 8 images to /content/split_dataset/train/057\n",
            "Copied 3 images to /content/split_dataset/val/057\n",
            "Copied 3 images to /content/split_dataset/test/057\n",
            "Copied 3 images to /content/split_dataset/train/047\n",
            "Copied 1 images to /content/split_dataset/val/047\n",
            "Copied 1 images to /content/split_dataset/test/047\n",
            "Copied 8 images to /content/split_dataset/train/078\n",
            "Copied 3 images to /content/split_dataset/val/078\n",
            "Copied 2 images to /content/split_dataset/test/078\n",
            "Copied 12 images to /content/split_dataset/train/106\n",
            "Copied 5 images to /content/split_dataset/val/106\n",
            "Copied 3 images to /content/split_dataset/test/106\n",
            "Copied 6 images to /content/split_dataset/train/155\n",
            "Copied 2 images to /content/split_dataset/val/155\n",
            "Copied 2 images to /content/split_dataset/test/155\n",
            "Copied 8 images to /content/split_dataset/train/087\n",
            "Copied 3 images to /content/split_dataset/val/087\n",
            "Copied 3 images to /content/split_dataset/test/087\n",
            "Copied 8 images to /content/split_dataset/train/081\n",
            "Copied 3 images to /content/split_dataset/val/081\n",
            "Copied 3 images to /content/split_dataset/test/081\n",
            "Copied 5 images to /content/split_dataset/train/239\n",
            "Copied 2 images to /content/split_dataset/val/239\n",
            "Copied 1 images to /content/split_dataset/test/239\n",
            "Copied 8 images to /content/split_dataset/train/085\n",
            "Copied 3 images to /content/split_dataset/val/085\n",
            "Copied 3 images to /content/split_dataset/test/085\n",
            "Copied 8 images to /content/split_dataset/train/139\n",
            "Copied 3 images to /content/split_dataset/val/139\n",
            "Copied 3 images to /content/split_dataset/test/139\n",
            "Copied 3 images to /content/split_dataset/train/193\n",
            "Copied 1 images to /content/split_dataset/val/193\n",
            "Copied 2 images to /content/split_dataset/test/193\n",
            "Copied 3 images to /content/split_dataset/train/198\n",
            "Copied 1 images to /content/split_dataset/val/198\n",
            "Copied 1 images to /content/split_dataset/test/198\n",
            "Copied 8 images to /content/split_dataset/train/091\n",
            "Copied 3 images to /content/split_dataset/val/091\n",
            "Copied 3 images to /content/split_dataset/test/091\n",
            "Copied 12 images to /content/split_dataset/train/027\n",
            "Copied 5 images to /content/split_dataset/val/027\n",
            "Copied 3 images to /content/split_dataset/test/027\n",
            "Copied 8 images to /content/split_dataset/train/093\n",
            "Copied 3 images to /content/split_dataset/val/093\n",
            "Copied 3 images to /content/split_dataset/test/093\n",
            "Copied 1 images to /content/split_dataset/train/233\n",
            "Copied 0 images to /content/split_dataset/val/233\n",
            "Copied 2 images to /content/split_dataset/test/233\n",
            "Copied 4 images to /content/split_dataset/train/068\n",
            "Copied 1 images to /content/split_dataset/val/068\n",
            "Copied 2 images to /content/split_dataset/test/068\n",
            "Copied 12 images to /content/split_dataset/train/083\n",
            "Copied 5 images to /content/split_dataset/val/083\n",
            "Copied 3 images to /content/split_dataset/test/083\n",
            "Copied 3 images to /content/split_dataset/train/225\n",
            "Copied 1 images to /content/split_dataset/val/225\n",
            "Copied 2 images to /content/split_dataset/test/225\n",
            "Copied 4 images to /content/split_dataset/train/169\n",
            "Copied 1 images to /content/split_dataset/val/169\n",
            "Copied 2 images to /content/split_dataset/test/169\n",
            "Copied 1 images to /content/split_dataset/train/234\n",
            "Copied 0 images to /content/split_dataset/val/234\n",
            "Copied 1 images to /content/split_dataset/test/234\n",
            "Copied 8 images to /content/split_dataset/train/073\n",
            "Copied 3 images to /content/split_dataset/val/073\n",
            "Copied 3 images to /content/split_dataset/test/073\n",
            "Copied 5 images to /content/split_dataset/train/163\n",
            "Copied 2 images to /content/split_dataset/val/163\n",
            "Copied 1 images to /content/split_dataset/test/163\n",
            "Copied 8 images to /content/split_dataset/train/088\n",
            "Copied 3 images to /content/split_dataset/val/088\n",
            "Copied 3 images to /content/split_dataset/test/088\n",
            "Copied 8 images to /content/split_dataset/train/079\n",
            "Copied 3 images to /content/split_dataset/val/079\n",
            "Copied 3 images to /content/split_dataset/test/079\n",
            "Copied 6 images to /content/split_dataset/train/090\n",
            "Copied 2 images to /content/split_dataset/val/090\n",
            "Copied 3 images to /content/split_dataset/test/090\n",
            "Copied 8 images to /content/split_dataset/train/094\n",
            "Copied 3 images to /content/split_dataset/val/094\n",
            "Copied 3 images to /content/split_dataset/test/094\n",
            "Copied 3 images to /content/split_dataset/train/049\n",
            "Copied 1 images to /content/split_dataset/val/049\n",
            "Copied 1 images to /content/split_dataset/test/049\n",
            "Copied 3 images to /content/split_dataset/train/231\n",
            "Copied 1 images to /content/split_dataset/val/231\n",
            "Copied 1 images to /content/split_dataset/test/231\n",
            "Copied 8 images to /content/split_dataset/train/089\n",
            "Copied 3 images to /content/split_dataset/val/089\n",
            "Copied 2 images to /content/split_dataset/test/089\n",
            "Copied 12 images to /content/split_dataset/train/230\n",
            "Copied 5 images to /content/split_dataset/val/230\n",
            "Copied 3 images to /content/split_dataset/test/230\n",
            "Copied 7 images to /content/split_dataset/train/119\n",
            "Copied 3 images to /content/split_dataset/val/119\n",
            "Copied 2 images to /content/split_dataset/test/119\n",
            "Copied 4 images to /content/split_dataset/train/174\n",
            "Copied 1 images to /content/split_dataset/val/174\n",
            "Copied 2 images to /content/split_dataset/test/174\n",
            "Copied 3 images to /content/split_dataset/train/184\n",
            "Copied 1 images to /content/split_dataset/val/184\n",
            "Copied 1 images to /content/split_dataset/test/184\n",
            "Copied 8 images to /content/split_dataset/train/117\n",
            "Copied 3 images to /content/split_dataset/val/117\n",
            "Copied 3 images to /content/split_dataset/test/117\n",
            "Copied 2 images to /content/split_dataset/train/226\n",
            "Copied 1 images to /content/split_dataset/val/226\n",
            "Copied 1 images to /content/split_dataset/test/226\n",
            "Copied 8 images to /content/split_dataset/train/140\n",
            "Copied 3 images to /content/split_dataset/val/140\n",
            "Copied 3 images to /content/split_dataset/test/140\n",
            "Copied 12 images to /content/split_dataset/train/158\n",
            "Copied 5 images to /content/split_dataset/val/158\n",
            "Copied 3 images to /content/split_dataset/test/158\n",
            "Copied 3 images to /content/split_dataset/train/048\n",
            "Copied 1 images to /content/split_dataset/val/048\n",
            "Copied 1 images to /content/split_dataset/test/048\n",
            "Copied 1 images to /content/split_dataset/train/195\n",
            "Copied 0 images to /content/split_dataset/val/195\n",
            "Copied 1 images to /content/split_dataset/test/195\n",
            "Copied 8 images to /content/split_dataset/train/112\n",
            "Copied 3 images to /content/split_dataset/val/112\n",
            "Copied 2 images to /content/split_dataset/test/112\n",
            "Copied 8 images to /content/split_dataset/train/067\n",
            "Copied 3 images to /content/split_dataset/val/067\n",
            "Copied 3 images to /content/split_dataset/test/067\n",
            "Copied 12 images to /content/split_dataset/train/152\n",
            "Copied 5 images to /content/split_dataset/val/152\n",
            "Copied 3 images to /content/split_dataset/test/152\n",
            "Copied 3 images to /content/split_dataset/train/189\n",
            "Copied 1 images to /content/split_dataset/val/189\n",
            "Copied 1 images to /content/split_dataset/test/189\n",
            "Copied 3 images to /content/split_dataset/train/171\n",
            "Copied 1 images to /content/split_dataset/val/171\n",
            "Copied 2 images to /content/split_dataset/test/171\n",
            "Copied 3 images to /content/split_dataset/train/175\n",
            "Copied 1 images to /content/split_dataset/val/175\n",
            "Copied 1 images to /content/split_dataset/test/175\n",
            "Copied 3 images to /content/split_dataset/train/206\n",
            "Copied 1 images to /content/split_dataset/val/206\n",
            "Copied 2 images to /content/split_dataset/test/206\n",
            "Copied 8 images to /content/split_dataset/train/065\n",
            "Copied 3 images to /content/split_dataset/val/065\n",
            "Copied 3 images to /content/split_dataset/test/065\n",
            "Copied 2 images to /content/split_dataset/train/037\n",
            "Copied 1 images to /content/split_dataset/val/037\n",
            "Copied 1 images to /content/split_dataset/test/037\n",
            "Copied 5 images to /content/split_dataset/train/009\n",
            "Copied 2 images to /content/split_dataset/val/009\n",
            "Copied 2 images to /content/split_dataset/test/009\n",
            "Copied 8 images to /content/split_dataset/train/055\n",
            "Copied 3 images to /content/split_dataset/val/055\n",
            "Copied 3 images to /content/split_dataset/test/055\n",
            "Copied 1 images to /content/split_dataset/train/240\n",
            "Copied 0 images to /content/split_dataset/val/240\n",
            "Copied 1 images to /content/split_dataset/test/240\n",
            "Copied 3 images to /content/split_dataset/train/144\n",
            "Copied 1 images to /content/split_dataset/val/144\n",
            "Copied 1 images to /content/split_dataset/test/144\n",
            "Copied 3 images to /content/split_dataset/train/218\n",
            "Copied 1 images to /content/split_dataset/val/218\n",
            "Copied 2 images to /content/split_dataset/test/218\n",
            "Copied 8 images to /content/split_dataset/train/059\n",
            "Copied 3 images to /content/split_dataset/val/059\n",
            "Copied 2 images to /content/split_dataset/test/059\n",
            "Copied 8 images to /content/split_dataset/train/135\n",
            "Copied 3 images to /content/split_dataset/val/135\n",
            "Copied 3 images to /content/split_dataset/test/135\n",
            "Copied 8 images to /content/split_dataset/train/061\n",
            "Copied 3 images to /content/split_dataset/val/061\n",
            "Copied 2 images to /content/split_dataset/test/061\n",
            "Copied 3 images to /content/split_dataset/train/166\n",
            "Copied 1 images to /content/split_dataset/val/166\n",
            "Copied 2 images to /content/split_dataset/test/166\n",
            "Copied 1 images to /content/split_dataset/train/022\n",
            "Copied 0 images to /content/split_dataset/val/022\n",
            "Copied 1 images to /content/split_dataset/test/022\n",
            "Copied 12 images to /content/split_dataset/train/001\n",
            "Copied 5 images to /content/split_dataset/val/001\n",
            "Copied 3 images to /content/split_dataset/test/001\n",
            "Copied 3 images to /content/split_dataset/train/141\n",
            "Copied 1 images to /content/split_dataset/val/141\n",
            "Copied 1 images to /content/split_dataset/test/141\n",
            "Copied 3 images to /content/split_dataset/train/211\n",
            "Copied 1 images to /content/split_dataset/val/211\n",
            "Copied 2 images to /content/split_dataset/test/211\n",
            "Copied 4 images to /content/split_dataset/train/216\n",
            "Copied 1 images to /content/split_dataset/val/216\n",
            "Copied 2 images to /content/split_dataset/test/216\n",
            "Copied 3 images to /content/split_dataset/train/235\n",
            "Copied 1 images to /content/split_dataset/val/235\n",
            "Copied 2 images to /content/split_dataset/test/235\n",
            "Copied 3 images to /content/split_dataset/train/185\n",
            "Copied 1 images to /content/split_dataset/val/185\n",
            "Copied 1 images to /content/split_dataset/test/185\n",
            "Copied 12 images to /content/split_dataset/train/021\n",
            "Copied 5 images to /content/split_dataset/val/021\n",
            "Copied 3 images to /content/split_dataset/test/021\n",
            "Copied 3 images to /content/split_dataset/train/040\n",
            "Copied 1 images to /content/split_dataset/val/040\n",
            "Copied 1 images to /content/split_dataset/test/040\n",
            "Copied 3 images to /content/split_dataset/train/039\n",
            "Copied 1 images to /content/split_dataset/val/039\n",
            "Copied 2 images to /content/split_dataset/test/039\n",
            "Copied 8 images to /content/split_dataset/train/120\n",
            "Copied 3 images to /content/split_dataset/val/120\n",
            "Copied 3 images to /content/split_dataset/test/120\n",
            "Copied 3 images to /content/split_dataset/train/053\n",
            "Copied 1 images to /content/split_dataset/val/053\n",
            "Copied 1 images to /content/split_dataset/test/053\n",
            "Copied 3 images to /content/split_dataset/train/026\n",
            "Copied 1 images to /content/split_dataset/val/026\n",
            "Copied 1 images to /content/split_dataset/test/026\n",
            "Copied 8 images to /content/split_dataset/train/133\n",
            "Copied 3 images to /content/split_dataset/val/133\n",
            "Copied 3 images to /content/split_dataset/test/133\n",
            "Copied 3 images to /content/split_dataset/train/014\n",
            "Copied 1 images to /content/split_dataset/val/014\n",
            "Copied 1 images to /content/split_dataset/test/014\n",
            "Copied 3 images to /content/split_dataset/train/030\n",
            "Copied 1 images to /content/split_dataset/val/030\n",
            "Copied 1 images to /content/split_dataset/test/030\n",
            "Copied 3 images to /content/split_dataset/train/192\n",
            "Copied 1 images to /content/split_dataset/val/192\n",
            "Copied 1 images to /content/split_dataset/test/192\n",
            "Copied 3 images to /content/split_dataset/train/162\n",
            "Copied 1 images to /content/split_dataset/val/162\n",
            "Copied 1 images to /content/split_dataset/test/162\n",
            "Copied 5 images to /content/split_dataset/train/222\n",
            "Copied 2 images to /content/split_dataset/val/222\n",
            "Copied 1 images to /content/split_dataset/test/222\n",
            "Copied 8 images to /content/split_dataset/train/124\n",
            "Copied 3 images to /content/split_dataset/val/124\n",
            "Copied 2 images to /content/split_dataset/test/124\n",
            "Copied 7 images to /content/split_dataset/train/132\n",
            "Copied 3 images to /content/split_dataset/val/132\n",
            "Copied 2 images to /content/split_dataset/test/132\n",
            "Copied 4 images to /content/split_dataset/train/178\n",
            "Copied 1 images to /content/split_dataset/val/178\n",
            "Copied 2 images to /content/split_dataset/test/178\n",
            "Copied 8 images to /content/split_dataset/train/104\n",
            "Copied 3 images to /content/split_dataset/val/104\n",
            "Copied 3 images to /content/split_dataset/test/104\n",
            "Copied 11 images to /content/split_dataset/train/034\n",
            "Copied 4 images to /content/split_dataset/val/034\n",
            "Copied 4 images to /content/split_dataset/test/034\n",
            "Copied 3 images to /content/split_dataset/train/176\n",
            "Copied 1 images to /content/split_dataset/val/176\n",
            "Copied 2 images to /content/split_dataset/test/176\n",
            "Copied 8 images to /content/split_dataset/train/103\n",
            "Copied 3 images to /content/split_dataset/val/103\n",
            "Copied 3 images to /content/split_dataset/test/103\n",
            "Copied 11 images to /content/split_dataset/train/209\n",
            "Copied 4 images to /content/split_dataset/val/209\n",
            "Copied 3 images to /content/split_dataset/test/209\n",
            "Copied 8 images to /content/split_dataset/train/092\n",
            "Copied 3 images to /content/split_dataset/val/092\n",
            "Copied 3 images to /content/split_dataset/test/092\n",
            "Copied 8 images to /content/split_dataset/train/123\n",
            "Copied 3 images to /content/split_dataset/val/123\n",
            "Copied 3 images to /content/split_dataset/test/123\n",
            "Copied 3 images to /content/split_dataset/train/194\n",
            "Copied 1 images to /content/split_dataset/val/194\n",
            "Copied 2 images to /content/split_dataset/test/194\n",
            "Copied 11 images to /content/split_dataset/train/156\n",
            "Copied 4 images to /content/split_dataset/val/156\n",
            "Copied 3 images to /content/split_dataset/test/156\n",
            "Copied 8 images to /content/split_dataset/train/097\n",
            "Copied 3 images to /content/split_dataset/val/097\n",
            "Copied 3 images to /content/split_dataset/test/097\n",
            "Copied 8 images to /content/split_dataset/train/100\n",
            "Copied 3 images to /content/split_dataset/val/100\n",
            "Copied 2 images to /content/split_dataset/test/100\n",
            "Copied 4 images to /content/split_dataset/train/183\n",
            "Copied 1 images to /content/split_dataset/val/183\n",
            "Copied 2 images to /content/split_dataset/test/183\n",
            "Copied 3 images to /content/split_dataset/train/041\n",
            "Copied 1 images to /content/split_dataset/val/041\n",
            "Copied 1 images to /content/split_dataset/test/041\n",
            "Copied 8 images to /content/split_dataset/train/060\n",
            "Copied 3 images to /content/split_dataset/val/060\n",
            "Copied 2 images to /content/split_dataset/test/060\n",
            "Copied 5 images to /content/split_dataset/train/205\n",
            "Copied 2 images to /content/split_dataset/val/205\n",
            "Copied 1 images to /content/split_dataset/test/205\n",
            "Copied 1 images to /content/split_dataset/train/168\n",
            "Copied 0 images to /content/split_dataset/val/168\n",
            "Copied 2 images to /content/split_dataset/test/168\n",
            "Copied 1 images to /content/split_dataset/train/237\n",
            "Copied 0 images to /content/split_dataset/val/237\n",
            "Copied 2 images to /content/split_dataset/test/237\n",
            "Copied 3 images to /content/split_dataset/train/042\n",
            "Copied 1 images to /content/split_dataset/val/042\n",
            "Copied 1 images to /content/split_dataset/test/042\n",
            "Copied 11 images to /content/split_dataset/train/210\n",
            "Copied 4 images to /content/split_dataset/val/210\n",
            "Copied 4 images to /content/split_dataset/test/210\n",
            "Copied 3 images to /content/split_dataset/train/023\n",
            "Copied 1 images to /content/split_dataset/val/023\n",
            "Copied 1 images to /content/split_dataset/test/023\n",
            "Copied 8 images to /content/split_dataset/train/054\n",
            "Copied 3 images to /content/split_dataset/val/054\n",
            "Copied 2 images to /content/split_dataset/test/054\n",
            "Copied 10 images to /content/split_dataset/train/151\n",
            "Copied 4 images to /content/split_dataset/val/151\n",
            "Copied 3 images to /content/split_dataset/test/151\n",
            "Copied 3 images to /content/split_dataset/train/024\n",
            "Copied 1 images to /content/split_dataset/val/024\n",
            "Copied 1 images to /content/split_dataset/test/024\n",
            "Copied 8 images to /content/split_dataset/train/102\n",
            "Copied 3 images to /content/split_dataset/val/102\n",
            "Copied 3 images to /content/split_dataset/test/102\n",
            "Copied 12 images to /content/split_dataset/train/127\n",
            "Copied 5 images to /content/split_dataset/val/127\n",
            "Copied 3 images to /content/split_dataset/test/127\n",
            "Copied 8 images to /content/split_dataset/train/121\n",
            "Copied 3 images to /content/split_dataset/val/121\n",
            "Copied 3 images to /content/split_dataset/test/121\n",
            "Copied 8 images to /content/split_dataset/train/069\n",
            "Copied 3 images to /content/split_dataset/val/069\n",
            "Copied 3 images to /content/split_dataset/test/069\n",
            "Copied 4 images to /content/split_dataset/train/006\n",
            "Copied 1 images to /content/split_dataset/val/006\n",
            "Copied 2 images to /content/split_dataset/test/006\n",
            "Copied 3 images to /content/split_dataset/train/031\n",
            "Copied 1 images to /content/split_dataset/val/031\n",
            "Copied 1 images to /content/split_dataset/test/031\n",
            "Copied 12 images to /content/split_dataset/train/072\n",
            "Copied 5 images to /content/split_dataset/val/072\n",
            "Copied 3 images to /content/split_dataset/test/072\n",
            "Copied 12 images to /content/split_dataset/train/160\n",
            "Copied 5 images to /content/split_dataset/val/160\n",
            "Copied 3 images to /content/split_dataset/test/160\n",
            "Copied 4 images to /content/split_dataset/train/035\n",
            "Copied 1 images to /content/split_dataset/val/035\n",
            "Copied 2 images to /content/split_dataset/test/035\n",
            "Copied 12 images to /content/split_dataset/train/002\n",
            "Copied 5 images to /content/split_dataset/val/002\n",
            "Copied 3 images to /content/split_dataset/test/002\n",
            "Copied 3 images to /content/split_dataset/train/138\n",
            "Copied 1 images to /content/split_dataset/val/138\n",
            "Copied 1 images to /content/split_dataset/test/138\n",
            "Copied 8 images to /content/split_dataset/train/109\n",
            "Copied 3 images to /content/split_dataset/val/109\n",
            "Copied 3 images to /content/split_dataset/test/109\n",
            "Copied 1 images to /content/split_dataset/train/028\n",
            "Copied 0 images to /content/split_dataset/val/028\n",
            "Copied 2 images to /content/split_dataset/test/028\n",
            "Copied 3 images to /content/split_dataset/train/050\n",
            "Copied 1 images to /content/split_dataset/val/050\n",
            "Copied 1 images to /content/split_dataset/test/050\n",
            "Copied 3 images to /content/split_dataset/train/025\n",
            "Copied 1 images to /content/split_dataset/val/025\n",
            "Copied 1 images to /content/split_dataset/test/025\n",
            "Copied 5 images to /content/split_dataset/train/177\n",
            "Copied 2 images to /content/split_dataset/val/177\n",
            "Copied 2 images to /content/split_dataset/test/177\n",
            "Copied 12 images to /content/split_dataset/train/051\n",
            "Copied 5 images to /content/split_dataset/val/051\n",
            "Copied 3 images to /content/split_dataset/test/051\n",
            "Copied 12 images to /content/split_dataset/train/084\n",
            "Copied 5 images to /content/split_dataset/val/084\n",
            "Copied 3 images to /content/split_dataset/test/084\n",
            "Copied 12 images to /content/split_dataset/train/020\n",
            "Copied 5 images to /content/split_dataset/val/020\n",
            "Copied 3 images to /content/split_dataset/test/020\n",
            "Copied 1 images to /content/split_dataset/train/015\n",
            "Copied 0 images to /content/split_dataset/val/015\n",
            "Copied 1 images to /content/split_dataset/test/015\n",
            "Copied 8 images to /content/split_dataset/train/128\n",
            "Copied 3 images to /content/split_dataset/val/128\n",
            "Copied 3 images to /content/split_dataset/test/128\n",
            "Copied 3 images to /content/split_dataset/train/046\n",
            "Copied 1 images to /content/split_dataset/val/046\n",
            "Copied 1 images to /content/split_dataset/test/046\n",
            "Copied 1 images to /content/split_dataset/train/228\n",
            "Copied 0 images to /content/split_dataset/val/228\n",
            "Copied 2 images to /content/split_dataset/test/228\n",
            "Copied 2 images to /content/split_dataset/train/236\n",
            "Copied 1 images to /content/split_dataset/val/236\n",
            "Copied 1 images to /content/split_dataset/test/236\n",
            "Copied 11 images to /content/split_dataset/train/008\n",
            "Copied 4 images to /content/split_dataset/val/008\n",
            "Copied 4 images to /content/split_dataset/test/008\n",
            "Copied 8 images to /content/split_dataset/train/157\n",
            "Copied 3 images to /content/split_dataset/val/157\n",
            "Copied 2 images to /content/split_dataset/test/157\n",
            "Copied 3 images to /content/split_dataset/train/043\n",
            "Copied 1 images to /content/split_dataset/val/043\n",
            "Copied 1 images to /content/split_dataset/test/043\n",
            "Copied 5 images to /content/split_dataset/train/005\n",
            "Copied 2 images to /content/split_dataset/val/005\n",
            "Copied 1 images to /content/split_dataset/test/005\n",
            "Copied 7 images to /content/split_dataset/train/071\n",
            "Copied 3 images to /content/split_dataset/val/071\n",
            "Copied 2 images to /content/split_dataset/test/071\n",
            "Copied 11 images to /content/split_dataset/train/011\n",
            "Copied 4 images to /content/split_dataset/val/011\n",
            "Copied 4 images to /content/split_dataset/test/011\n",
            "Copied 8 images to /content/split_dataset/train/131\n",
            "Copied 3 images to /content/split_dataset/val/131\n",
            "Copied 3 images to /content/split_dataset/test/131\n",
            "Copied 8 images to /content/split_dataset/train/056\n",
            "Copied 3 images to /content/split_dataset/val/056\n",
            "Copied 3 images to /content/split_dataset/test/056\n",
            "Copied 8 images to /content/split_dataset/train/107\n",
            "Copied 3 images to /content/split_dataset/val/107\n",
            "Copied 3 images to /content/split_dataset/test/107\n",
            "Copied 12 images to /content/split_dataset/train/190\n",
            "Copied 5 images to /content/split_dataset/val/190\n",
            "Copied 3 images to /content/split_dataset/test/190\n",
            "Copied 8 images to /content/split_dataset/train/125\n",
            "Copied 3 images to /content/split_dataset/val/125\n",
            "Copied 3 images to /content/split_dataset/test/125\n",
            "Copied 4 images to /content/split_dataset/train/164\n",
            "Copied 1 images to /content/split_dataset/val/164\n",
            "Copied 2 images to /content/split_dataset/test/164\n",
            "Copied 5 images to /content/split_dataset/train/167\n",
            "Copied 2 images to /content/split_dataset/val/167\n",
            "Copied 1 images to /content/split_dataset/test/167\n",
            "Copied 8 images to /content/split_dataset/train/096\n",
            "Copied 3 images to /content/split_dataset/val/096\n",
            "Copied 3 images to /content/split_dataset/test/096\n",
            "Copied 1 images to /content/split_dataset/train/214\n",
            "Copied 0 images to /content/split_dataset/val/214\n",
            "Copied 2 images to /content/split_dataset/test/214\n",
            "Copied 12 images to /content/split_dataset/train/153\n",
            "Copied 5 images to /content/split_dataset/val/153\n",
            "Copied 3 images to /content/split_dataset/test/153\n",
            "Copied 1 images to /content/split_dataset/train/146\n",
            "Copied 0 images to /content/split_dataset/val/146\n",
            "Copied 2 images to /content/split_dataset/test/146\n",
            "Copied 8 images to /content/split_dataset/train/075\n",
            "Copied 3 images to /content/split_dataset/val/075\n",
            "Copied 3 images to /content/split_dataset/test/075\n",
            "Copied 0 images to /content/split_dataset/train/142\n",
            "Copied 0 images to /content/split_dataset/val/142\n",
            "Copied 1 images to /content/split_dataset/test/142\n",
            "Copied 13 images to /content/split_dataset/train/036\n",
            "Copied 5 images to /content/split_dataset/val/036\n",
            "Copied 3 images to /content/split_dataset/test/036\n",
            "Copied 11 images to /content/split_dataset/train/220\n",
            "Copied 4 images to /content/split_dataset/val/220\n",
            "Copied 4 images to /content/split_dataset/test/220\n",
            "Copied 3 images to /content/split_dataset/train/188\n",
            "Copied 1 images to /content/split_dataset/val/188\n",
            "Copied 2 images to /content/split_dataset/test/188\n",
            "Copied 3 images to /content/split_dataset/train/186\n",
            "Copied 1 images to /content/split_dataset/val/186\n",
            "Copied 1 images to /content/split_dataset/test/186\n",
            "Copied 9 images to /content/split_dataset/train/161\n",
            "Copied 3 images to /content/split_dataset/val/161\n",
            "Copied 3 images to /content/split_dataset/test/161\n",
            "Copied 8 images to /content/split_dataset/train/129\n",
            "Copied 3 images to /content/split_dataset/val/129\n",
            "Copied 3 images to /content/split_dataset/test/129\n",
            "Copied 8 images to /content/split_dataset/train/136\n",
            "Copied 3 images to /content/split_dataset/val/136\n",
            "Copied 3 images to /content/split_dataset/test/136\n",
            "Copied 8 images to /content/split_dataset/train/064\n",
            "Copied 3 images to /content/split_dataset/val/064\n",
            "Copied 3 images to /content/split_dataset/test/064\n",
            "Copied 8 images to /content/split_dataset/train/070\n",
            "Copied 3 images to /content/split_dataset/val/070\n",
            "Copied 3 images to /content/split_dataset/test/070\n",
            "Copied 1 images to /content/split_dataset/train/191\n",
            "Copied 0 images to /content/split_dataset/val/191\n",
            "Copied 1 images to /content/split_dataset/test/191\n",
            "Copied 12 images to /content/split_dataset/train/200\n",
            "Copied 5 images to /content/split_dataset/val/200\n",
            "Copied 3 images to /content/split_dataset/test/200\n",
            "Copied 8 images to /content/split_dataset/train/076\n",
            "Copied 3 images to /content/split_dataset/val/076\n",
            "Copied 3 images to /content/split_dataset/test/076\n",
            "Copied 0 images to /content/split_dataset/train/207\n",
            "Copied 0 images to /content/split_dataset/val/207\n",
            "Copied 1 images to /content/split_dataset/test/207\n",
            "Copied 13 images to /content/split_dataset/train/215\n",
            "Copied 5 images to /content/split_dataset/val/215\n",
            "Copied 4 images to /content/split_dataset/test/215\n",
            "Copied 4 images to /content/split_dataset/train/212\n",
            "Copied 1 images to /content/split_dataset/val/212\n",
            "Copied 2 images to /content/split_dataset/test/212\n",
            "Copied 8 images to /content/split_dataset/train/074\n",
            "Copied 3 images to /content/split_dataset/val/074\n",
            "Copied 3 images to /content/split_dataset/test/074\n",
            "Copied 4 images to /content/split_dataset/train/201\n",
            "Copied 1 images to /content/split_dataset/val/201\n",
            "Copied 2 images to /content/split_dataset/test/201\n",
            "Copied 4 images to /content/split_dataset/train/003\n",
            "Copied 1 images to /content/split_dataset/val/003\n",
            "Copied 2 images to /content/split_dataset/test/003\n",
            "Copied 4 images to /content/split_dataset/train/217\n",
            "Copied 1 images to /content/split_dataset/val/217\n",
            "Copied 2 images to /content/split_dataset/test/217\n",
            "Copied 4 images to /content/split_dataset/train/004\n",
            "Copied 1 images to /content/split_dataset/val/004\n",
            "Copied 2 images to /content/split_dataset/test/004\n",
            "Copied 1 images to /content/split_dataset/train/227\n",
            "Copied 0 images to /content/split_dataset/val/227\n",
            "Copied 2 images to /content/split_dataset/test/227\n",
            "Copied 3 images to /content/split_dataset/train/052\n",
            "Copied 1 images to /content/split_dataset/val/052\n",
            "Copied 1 images to /content/split_dataset/test/052\n"
          ]
        }
      ]
    },
    {
      "cell_type": "code",
      "source": [
        "from tensorflow.keras.layers import Conv2D, Flatten, Dense, MaxPool2D, BatchNormalization, GlobalAveragePooling2D\n",
        "from tensorflow.keras.applications.resnet50 import preprocess_input, decode_predictions\n",
        "from tensorflow.keras.preprocessing.image import ImageDataGenerator, load_img\n",
        "from tensorflow.keras.applications.resnet50 import ResNet50\n",
        "from tensorflow.keras.preprocessing import image\n",
        "from tensorflow.keras.models import Sequential\n",
        "from tensorflow.keras.models import Model\n",
        "\n",
        "import matplotlib.pyplot as plt\n",
        "import numpy as np"
      ],
      "metadata": {
        "id": "sUCO_NsOqfnB"
      },
      "execution_count": 3,
      "outputs": []
    },
    {
      "cell_type": "code",
      "source": [
        "mg_height, img_width = (256,256)\n",
        "batch_size = 16\n",
        "\n",
        "train_data_dir = r\"/content/split_dataset/train\"\n",
        "valid_data_dir = r\"/content/split_dataset/val\"\n",
        "test_data_dir = r\"/content/split_dataset/test\""
      ],
      "metadata": {
        "id": "ZXh3zlBZqlej"
      },
      "execution_count": 4,
      "outputs": []
    },
    {
      "cell_type": "code",
      "source": [
        "import os\n",
        "\n",
        "def count_images_in_directory(directory):\n",
        "    total = 0\n",
        "    for root, dirs, files in os.walk(directory):\n",
        "        for file in files:\n",
        "            if file.lower().endswith(('.png', '.jpg', '.jpeg', '.bmp', '.tiff')):\n",
        "                total += 1\n",
        "    return total\n",
        "\n",
        "\n",
        "\n",
        "# Count and print\n",
        "print(f\" Number of training images: {count_images_in_directory(train_data_dir)}\")\n",
        "print(f\" Number of validation images: {count_images_in_directory(valid_data_dir)}\")\n",
        "print(f\" Number of test images: {count_images_in_directory(test_data_dir)}\")"
      ],
      "metadata": {
        "colab": {
          "base_uri": "https://localhost:8080/"
        },
        "id": "GnFkC-2hqpEW",
        "outputId": "4c2bf2c9-0a5b-4a89-8f2f-9be10d79c244"
      },
      "execution_count": 5,
      "outputs": [
        {
          "output_type": "stream",
          "name": "stdout",
          "text": [
            " Number of training images: 1533\n",
            " Number of validation images: 571\n",
            " Number of test images: 535\n"
          ]
        }
      ]
    },
    {
      "cell_type": "code",
      "source": [
        "train_datagen = ImageDataGenerator(dtype = 'float32', preprocessing_function=preprocess_input)\n",
        "valid_datagen = ImageDataGenerator(dtype = 'float32', preprocessing_function=preprocess_input)\n",
        "\n",
        "train_generator = train_datagen.flow_from_directory(\n",
        "    train_data_dir,\n",
        "    target_size=(256, 256),\n",
        "    batch_size=16,\n",
        "    class_mode='categorical') # set as training data\n",
        "\n",
        "valid_generator = valid_datagen.flow_from_directory(\n",
        "    valid_data_dir,\n",
        "    target_size=(256, 256),\n",
        "    batch_size=16,\n",
        "    class_mode='categorical') # set as validation data"
      ],
      "metadata": {
        "colab": {
          "base_uri": "https://localhost:8080/"
        },
        "id": "HuvSP6PyqsnP",
        "outputId": "dc53f886-7e27-4b89-88f9-66551f224734"
      },
      "execution_count": 6,
      "outputs": [
        {
          "output_type": "stream",
          "name": "stdout",
          "text": [
            "Found 1533 images belonging to 240 classes.\n",
            "Found 571 images belonging to 240 classes.\n"
          ]
        }
      ]
    },
    {
      "cell_type": "code",
      "source": [
        "from tensorflow.keras.preprocessing.image import ImageDataGenerator\n",
        "from tensorflow.keras.applications.resnet50 import preprocess_input  # or use VGG16's preprocess_input\n",
        "\n",
        "# Define test image data generator\n",
        "test_datagen = ImageDataGenerator(\n",
        "    preprocessing_function=preprocess_input\n",
        ")\n",
        "\n",
        "# Then use it here\n",
        "test_generator = test_datagen.flow_from_directory(\n",
        "    \"/content/split_dataset/test\",\n",
        "    target_size=(256, 256),\n",
        "    batch_size=16,\n",
        "    class_mode='categorical',\n",
        "    shuffle=False\n",
        ")"
      ],
      "metadata": {
        "colab": {
          "base_uri": "https://localhost:8080/"
        },
        "id": "-4npXNTfqwKA",
        "outputId": "05f18960-8ee9-448e-d7f6-f84223a647e2"
      },
      "execution_count": 7,
      "outputs": [
        {
          "output_type": "stream",
          "name": "stdout",
          "text": [
            "Found 535 images belonging to 240 classes.\n"
          ]
        }
      ]
    },
    {
      "cell_type": "code",
      "source": [
        "x, y = next(test_generator)\n",
        "x.shape"
      ],
      "metadata": {
        "colab": {
          "base_uri": "https://localhost:8080/"
        },
        "id": "rIpVhuZqq6Ds",
        "outputId": "2e77ec00-f1bf-4fdf-a741-7513436eb8ff"
      },
      "execution_count": 8,
      "outputs": [
        {
          "output_type": "execute_result",
          "data": {
            "text/plain": [
              "(16, 256, 256, 3)"
            ]
          },
          "metadata": {},
          "execution_count": 8
        }
      ]
    },
    {
      "cell_type": "code",
      "source": [
        "from tensorflow.keras.optimizers import Adam\n",
        "from tensorflow.keras.applications import ResNet50\n",
        "from tensorflow.keras.layers import GlobalAveragePooling2D, Dense\n",
        "from tensorflow.keras.models import Model\n",
        "from tensorflow.keras.callbacks import EarlyStopping, ModelCheckpoint\n",
        "\n",
        "# Load ResNet50 with ImageNet weights, excluding top layer\n",
        "base_model = ResNet50(include_top=False, weights='imagenet')\n",
        "\n",
        "# Build custom classifier\n",
        "x = base_model.output\n",
        "x = GlobalAveragePooling2D()(x)\n",
        "x = Dense(1024, activation='relu')(x)\n",
        "predictions = Dense(train_generator.num_classes, activation='softmax')(x)\n",
        "\n",
        "# Create model\n",
        "model = Model(inputs=base_model.input, outputs=predictions)\n",
        "\n",
        "# Freeze all base model layers for initial training\n",
        "for layer in base_model.layers:\n",
        "    layer.trainable = False\n",
        "\n",
        "# Compile model for initial training\n",
        "custom_optimizer = Adam(learning_rate=0.0002)\n",
        "model.compile(optimizer=custom_optimizer, loss='categorical_crossentropy', metrics=['accuracy'])\n",
        "\n",
        "# Define callbacks\n",
        "early_stopping = EarlyStopping(monitor='val_loss', patience=5, restore_best_weights=True)\n",
        "checkpoint = ModelCheckpoint('best_model_initial.h5', monitor='val_accuracy', save_best_only=True)\n",
        "\n",
        "# Initial training\n",
        "history = model.fit(\n",
        "    train_generator,\n",
        "    validation_data=valid_generator,\n",
        "    epochs=20,  # Initial training epochs\n",
        "    callbacks=[early_stopping, checkpoint]\n",
        ")\n",
        "\n",
        "# Unfreeze selective layers for fine-tuning (last 10 layers, roughly conv5_x block)\n",
        "for layer in base_model.layers[-10:]:\n",
        "    layer.trainable = True\n",
        "\n",
        "# Recompile model with lower learning rate for fine-tuning\n",
        "model.compile(optimizer=Adam(learning_rate=1e-5), loss='categorical_crossentropy', metrics=['accuracy'])\n",
        "\n",
        "# Define callbacks for fine-tuning\n",
        "checkpoint_finetune = ModelCheckpoint('best_model_finetuned.h5', monitor='val_accuracy', save_best_only=True)\n",
        "\n",
        "# Fine-tuning training\n",
        "history_finetune = model.fit(\n",
        "    train_generator,\n",
        "    validation_data=valid_generator,\n",
        "    epochs=10,  # Fewer epochs for fine-tuning\n",
        "    callbacks=[early_stopping, checkpoint_finetune]\n",
        ")"
      ],
      "metadata": {
        "colab": {
          "base_uri": "https://localhost:8080/"
        },
        "id": "nnN1TdVHq96q",
        "outputId": "c60e4132-fc8e-4923-99bc-277fdffe6ada"
      },
      "execution_count": 9,
      "outputs": [
        {
          "output_type": "stream",
          "name": "stdout",
          "text": [
            "Downloading data from https://storage.googleapis.com/tensorflow/keras-applications/resnet/resnet50_weights_tf_dim_ordering_tf_kernels_notop.h5\n",
            "\u001b[1m94765736/94765736\u001b[0m \u001b[32m━━━━━━━━━━━━━━━━━━━━\u001b[0m\u001b[37m\u001b[0m \u001b[1m0s\u001b[0m 0us/step\n"
          ]
        },
        {
          "output_type": "stream",
          "name": "stderr",
          "text": [
            "/usr/local/lib/python3.11/dist-packages/keras/src/trainers/data_adapters/py_dataset_adapter.py:121: UserWarning: Your `PyDataset` class should call `super().__init__(**kwargs)` in its constructor. `**kwargs` can include `workers`, `use_multiprocessing`, `max_queue_size`. Do not pass these arguments to `fit()`, as they will be ignored.\n",
            "  self._warn_if_super_not_called()\n"
          ]
        },
        {
          "output_type": "stream",
          "name": "stdout",
          "text": [
            "Epoch 1/20\n",
            "\u001b[1m95/96\u001b[0m \u001b[32m━━━━━━━━━━━━━━━━━━━\u001b[0m\u001b[37m━\u001b[0m \u001b[1m0s\u001b[0m 96ms/step - accuracy: 0.0347 - loss: 5.6190"
          ]
        },
        {
          "output_type": "stream",
          "name": "stderr",
          "text": [
            "/usr/local/lib/python3.11/dist-packages/keras/src/trainers/data_adapters/py_dataset_adapter.py:121: UserWarning: Your `PyDataset` class should call `super().__init__(**kwargs)` in its constructor. `**kwargs` can include `workers`, `use_multiprocessing`, `max_queue_size`. Do not pass these arguments to `fit()`, as they will be ignored.\n",
            "  self._warn_if_super_not_called()\n",
            "WARNING:absl:You are saving your model as an HDF5 file via `model.save()` or `keras.saving.save_model(model)`. This file format is considered legacy. We recommend using instead the native Keras format, e.g. `model.save('my_model.keras')` or `keras.saving.save_model(model, 'my_model.keras')`. \n"
          ]
        },
        {
          "output_type": "stream",
          "name": "stdout",
          "text": [
            "\b\b\b\b\b\b\b\b\b\b\b\b\b\b\b\b\b\b\b\b\b\b\b\b\b\b\b\b\b\b\b\b\b\b\b\b\b\b\b\b\b\b\b\b\b\b\b\b\b\b\b\b\b\b\b\b\b\b\b\b\b\b\b\b\b\b\b\b\b\b\b\b\b\r\u001b[1m96/96\u001b[0m \u001b[32m━━━━━━━━━━━━━━━━━━━━\u001b[0m\u001b[37m\u001b[0m \u001b[1m32s\u001b[0m 204ms/step - accuracy: 0.0351 - loss: 5.6115 - val_accuracy: 0.2224 - val_loss: 4.3034\n",
            "Epoch 2/20\n",
            "\u001b[1m96/96\u001b[0m \u001b[32m━━━━━━━━━━━━━━━━━━━━\u001b[0m\u001b[37m\u001b[0m \u001b[1m0s\u001b[0m 58ms/step - accuracy: 0.2369 - loss: 3.9923"
          ]
        },
        {
          "output_type": "stream",
          "name": "stderr",
          "text": [
            "WARNING:absl:You are saving your model as an HDF5 file via `model.save()` or `keras.saving.save_model(model)`. This file format is considered legacy. We recommend using instead the native Keras format, e.g. `model.save('my_model.keras')` or `keras.saving.save_model(model, 'my_model.keras')`. \n"
          ]
        },
        {
          "output_type": "stream",
          "name": "stdout",
          "text": [
            "\b\b\b\b\b\b\b\b\b\b\b\b\b\b\b\b\b\b\b\b\b\b\b\b\b\b\b\b\b\b\b\b\b\b\b\b\b\b\b\b\b\b\b\b\b\b\b\b\b\b\b\b\b\b\b\b\b\b\b\b\b\b\b\b\b\b\b\b\b\b\b\b\b\r\u001b[1m96/96\u001b[0m \u001b[32m━━━━━━━━━━━━━━━━━━━━\u001b[0m\u001b[37m\u001b[0m \u001b[1m8s\u001b[0m 85ms/step - accuracy: 0.2374 - loss: 3.9901 - val_accuracy: 0.4518 - val_loss: 3.0919\n",
            "Epoch 3/20\n",
            "\u001b[1m96/96\u001b[0m \u001b[32m━━━━━━━━━━━━━━━━━━━━\u001b[0m\u001b[37m\u001b[0m \u001b[1m0s\u001b[0m 53ms/step - accuracy: 0.5402 - loss: 2.6081"
          ]
        },
        {
          "output_type": "stream",
          "name": "stderr",
          "text": [
            "WARNING:absl:You are saving your model as an HDF5 file via `model.save()` or `keras.saving.save_model(model)`. This file format is considered legacy. We recommend using instead the native Keras format, e.g. `model.save('my_model.keras')` or `keras.saving.save_model(model, 'my_model.keras')`. \n"
          ]
        },
        {
          "output_type": "stream",
          "name": "stdout",
          "text": [
            "\b\b\b\b\b\b\b\b\b\b\b\b\b\b\b\b\b\b\b\b\b\b\b\b\b\b\b\b\b\b\b\b\b\b\b\b\b\b\b\b\b\b\b\b\b\b\b\b\b\b\b\b\b\b\b\b\b\b\b\b\b\b\b\b\b\b\b\b\b\b\b\b\b\r\u001b[1m96/96\u001b[0m \u001b[32m━━━━━━━━━━━━━━━━━━━━\u001b[0m\u001b[37m\u001b[0m \u001b[1m8s\u001b[0m 88ms/step - accuracy: 0.5404 - loss: 2.6069 - val_accuracy: 0.6340 - val_loss: 2.1501\n",
            "Epoch 4/20\n",
            "\u001b[1m96/96\u001b[0m \u001b[32m━━━━━━━━━━━━━━━━━━━━\u001b[0m\u001b[37m\u001b[0m \u001b[1m0s\u001b[0m 54ms/step - accuracy: 0.7303 - loss: 1.6729"
          ]
        },
        {
          "output_type": "stream",
          "name": "stderr",
          "text": [
            "WARNING:absl:You are saving your model as an HDF5 file via `model.save()` or `keras.saving.save_model(model)`. This file format is considered legacy. We recommend using instead the native Keras format, e.g. `model.save('my_model.keras')` or `keras.saving.save_model(model, 'my_model.keras')`. \n"
          ]
        },
        {
          "output_type": "stream",
          "name": "stdout",
          "text": [
            "\b\b\b\b\b\b\b\b\b\b\b\b\b\b\b\b\b\b\b\b\b\b\b\b\b\b\b\b\b\b\b\b\b\b\b\b\b\b\b\b\b\b\b\b\b\b\b\b\b\b\b\b\b\b\b\b\b\b\b\b\b\b\b\b\b\b\b\b\b\b\b\b\b\r\u001b[1m96/96\u001b[0m \u001b[32m━━━━━━━━━━━━━━━━━━━━\u001b[0m\u001b[37m\u001b[0m \u001b[1m10s\u001b[0m 81ms/step - accuracy: 0.7305 - loss: 1.6721 - val_accuracy: 0.7198 - val_loss: 1.5723\n",
            "Epoch 5/20\n",
            "\u001b[1m95/96\u001b[0m \u001b[32m━━━━━━━━━━━━━━━━━━━\u001b[0m\u001b[37m━\u001b[0m \u001b[1m0s\u001b[0m 53ms/step - accuracy: 0.8804 - loss: 1.0475"
          ]
        },
        {
          "output_type": "stream",
          "name": "stderr",
          "text": [
            "WARNING:absl:You are saving your model as an HDF5 file via `model.save()` or `keras.saving.save_model(model)`. This file format is considered legacy. We recommend using instead the native Keras format, e.g. `model.save('my_model.keras')` or `keras.saving.save_model(model, 'my_model.keras')`. \n"
          ]
        },
        {
          "output_type": "stream",
          "name": "stdout",
          "text": [
            "\b\b\b\b\b\b\b\b\b\b\b\b\b\b\b\b\b\b\b\b\b\b\b\b\b\b\b\b\b\b\b\b\b\b\b\b\b\b\b\b\b\b\b\b\b\b\b\b\b\b\b\b\b\b\b\b\b\b\b\b\b\b\b\b\b\b\b\b\b\b\b\b\b\r\u001b[1m96/96\u001b[0m \u001b[32m━━━━━━━━━━━━━━━━━━━━\u001b[0m\u001b[37m\u001b[0m \u001b[1m10s\u001b[0m 80ms/step - accuracy: 0.8805 - loss: 1.0463 - val_accuracy: 0.8406 - val_loss: 1.1667\n",
            "Epoch 6/20\n",
            "\u001b[1m96/96\u001b[0m \u001b[32m━━━━━━━━━━━━━━━━━━━━\u001b[0m\u001b[37m\u001b[0m \u001b[1m0s\u001b[0m 57ms/step - accuracy: 0.9436 - loss: 0.6657"
          ]
        },
        {
          "output_type": "stream",
          "name": "stderr",
          "text": [
            "WARNING:absl:You are saving your model as an HDF5 file via `model.save()` or `keras.saving.save_model(model)`. This file format is considered legacy. We recommend using instead the native Keras format, e.g. `model.save('my_model.keras')` or `keras.saving.save_model(model, 'my_model.keras')`. \n"
          ]
        },
        {
          "output_type": "stream",
          "name": "stdout",
          "text": [
            "\b\b\b\b\b\b\b\b\b\b\b\b\b\b\b\b\b\b\b\b\b\b\b\b\b\b\b\b\b\b\b\b\b\b\b\b\b\b\b\b\b\b\b\b\b\b\b\b\b\b\b\b\b\b\b\b\b\b\b\b\b\b\b\b\b\b\b\b\b\b\b\b\b\r\u001b[1m96/96\u001b[0m \u001b[32m━━━━━━━━━━━━━━━━━━━━\u001b[0m\u001b[37m\u001b[0m \u001b[1m8s\u001b[0m 84ms/step - accuracy: 0.9436 - loss: 0.6655 - val_accuracy: 0.8651 - val_loss: 0.9208\n",
            "Epoch 7/20\n",
            "\u001b[1m96/96\u001b[0m \u001b[32m━━━━━━━━━━━━━━━━━━━━\u001b[0m\u001b[37m\u001b[0m \u001b[1m0s\u001b[0m 54ms/step - accuracy: 0.9723 - loss: 0.4594"
          ]
        },
        {
          "output_type": "stream",
          "name": "stderr",
          "text": [
            "WARNING:absl:You are saving your model as an HDF5 file via `model.save()` or `keras.saving.save_model(model)`. This file format is considered legacy. We recommend using instead the native Keras format, e.g. `model.save('my_model.keras')` or `keras.saving.save_model(model, 'my_model.keras')`. \n"
          ]
        },
        {
          "output_type": "stream",
          "name": "stdout",
          "text": [
            "\b\b\b\b\b\b\b\b\b\b\b\b\b\b\b\b\b\b\b\b\b\b\b\b\b\b\b\b\b\b\b\b\b\b\b\b\b\b\b\b\b\b\b\b\b\b\b\b\b\b\b\b\b\b\b\b\b\b\b\b\b\b\b\b\b\b\b\b\b\b\b\b\b\r\u001b[1m96/96\u001b[0m \u001b[32m━━━━━━━━━━━━━━━━━━━━\u001b[0m\u001b[37m\u001b[0m \u001b[1m8s\u001b[0m 88ms/step - accuracy: 0.9722 - loss: 0.4592 - val_accuracy: 0.9054 - val_loss: 0.7398\n",
            "Epoch 8/20\n",
            "\u001b[1m96/96\u001b[0m \u001b[32m━━━━━━━━━━━━━━━━━━━━\u001b[0m\u001b[37m\u001b[0m \u001b[1m0s\u001b[0m 55ms/step - accuracy: 0.9828 - loss: 0.3124"
          ]
        },
        {
          "output_type": "stream",
          "name": "stderr",
          "text": [
            "WARNING:absl:You are saving your model as an HDF5 file via `model.save()` or `keras.saving.save_model(model)`. This file format is considered legacy. We recommend using instead the native Keras format, e.g. `model.save('my_model.keras')` or `keras.saving.save_model(model, 'my_model.keras')`. \n"
          ]
        },
        {
          "output_type": "stream",
          "name": "stdout",
          "text": [
            "\b\b\b\b\b\b\b\b\b\b\b\b\b\b\b\b\b\b\b\b\b\b\b\b\b\b\b\b\b\b\b\b\b\b\b\b\b\b\b\b\b\b\b\b\b\b\b\b\b\b\b\b\b\b\b\b\b\b\b\b\b\b\b\b\b\b\b\b\b\b\b\b\b\r\u001b[1m96/96\u001b[0m \u001b[32m━━━━━━━━━━━━━━━━━━━━\u001b[0m\u001b[37m\u001b[0m \u001b[1m8s\u001b[0m 81ms/step - accuracy: 0.9828 - loss: 0.3123 - val_accuracy: 0.9089 - val_loss: 0.6339\n",
            "Epoch 9/20\n",
            "\u001b[1m96/96\u001b[0m \u001b[32m━━━━━━━━━━━━━━━━━━━━\u001b[0m\u001b[37m\u001b[0m \u001b[1m0s\u001b[0m 59ms/step - accuracy: 0.9965 - loss: 0.2013"
          ]
        },
        {
          "output_type": "stream",
          "name": "stderr",
          "text": [
            "WARNING:absl:You are saving your model as an HDF5 file via `model.save()` or `keras.saving.save_model(model)`. This file format is considered legacy. We recommend using instead the native Keras format, e.g. `model.save('my_model.keras')` or `keras.saving.save_model(model, 'my_model.keras')`. \n"
          ]
        },
        {
          "output_type": "stream",
          "name": "stdout",
          "text": [
            "\b\b\b\b\b\b\b\b\b\b\b\b\b\b\b\b\b\b\b\b\b\b\b\b\b\b\b\b\b\b\b\b\b\b\b\b\b\b\b\b\b\b\b\b\b\b\b\b\b\b\b\b\b\b\b\b\b\b\b\b\b\b\b\b\b\b\b\b\b\b\b\b\b\r\u001b[1m96/96\u001b[0m \u001b[32m━━━━━━━━━━━━━━━━━━━━\u001b[0m\u001b[37m\u001b[0m \u001b[1m8s\u001b[0m 86ms/step - accuracy: 0.9965 - loss: 0.2013 - val_accuracy: 0.9264 - val_loss: 0.5417\n",
            "Epoch 10/20\n",
            "\u001b[1m96/96\u001b[0m \u001b[32m━━━━━━━━━━━━━━━━━━━━\u001b[0m\u001b[37m\u001b[0m \u001b[1m8s\u001b[0m 79ms/step - accuracy: 0.9961 - loss: 0.1636 - val_accuracy: 0.9212 - val_loss: 0.4975\n",
            "Epoch 11/20\n",
            "\u001b[1m96/96\u001b[0m \u001b[32m━━━━━━━━━━━━━━━━━━━━\u001b[0m\u001b[37m\u001b[0m \u001b[1m0s\u001b[0m 55ms/step - accuracy: 0.9996 - loss: 0.1179"
          ]
        },
        {
          "output_type": "stream",
          "name": "stderr",
          "text": [
            "WARNING:absl:You are saving your model as an HDF5 file via `model.save()` or `keras.saving.save_model(model)`. This file format is considered legacy. We recommend using instead the native Keras format, e.g. `model.save('my_model.keras')` or `keras.saving.save_model(model, 'my_model.keras')`. \n"
          ]
        },
        {
          "output_type": "stream",
          "name": "stdout",
          "text": [
            "\b\b\b\b\b\b\b\b\b\b\b\b\b\b\b\b\b\b\b\b\b\b\b\b\b\b\b\b\b\b\b\b\b\b\b\b\b\b\b\b\b\b\b\b\b\b\b\b\b\b\b\b\b\b\b\b\b\b\b\b\b\b\b\b\b\b\b\b\b\b\b\b\b\r\u001b[1m96/96\u001b[0m \u001b[32m━━━━━━━━━━━━━━━━━━━━\u001b[0m\u001b[37m\u001b[0m \u001b[1m11s\u001b[0m 91ms/step - accuracy: 0.9995 - loss: 0.1179 - val_accuracy: 0.9352 - val_loss: 0.4429\n",
            "Epoch 12/20\n",
            "\u001b[1m96/96\u001b[0m \u001b[32m━━━━━━━━━━━━━━━━━━━━\u001b[0m\u001b[37m\u001b[0m \u001b[1m9s\u001b[0m 77ms/step - accuracy: 0.9969 - loss: 0.0927 - val_accuracy: 0.9264 - val_loss: 0.4138\n",
            "Epoch 13/20\n",
            "\u001b[1m96/96\u001b[0m \u001b[32m━━━━━━━━━━━━━━━━━━━━\u001b[0m\u001b[37m\u001b[0m \u001b[1m0s\u001b[0m 59ms/step - accuracy: 1.0000 - loss: 0.0769"
          ]
        },
        {
          "output_type": "stream",
          "name": "stderr",
          "text": [
            "WARNING:absl:You are saving your model as an HDF5 file via `model.save()` or `keras.saving.save_model(model)`. This file format is considered legacy. We recommend using instead the native Keras format, e.g. `model.save('my_model.keras')` or `keras.saving.save_model(model, 'my_model.keras')`. \n"
          ]
        },
        {
          "output_type": "stream",
          "name": "stdout",
          "text": [
            "\b\b\b\b\b\b\b\b\b\b\b\b\b\b\b\b\b\b\b\b\b\b\b\b\b\b\b\b\b\b\b\b\b\b\b\b\b\b\b\b\b\b\b\b\b\b\b\b\b\b\b\b\b\b\b\b\b\b\b\b\b\b\b\b\b\b\b\b\b\b\b\b\b\r\u001b[1m96/96\u001b[0m \u001b[32m━━━━━━━━━━━━━━━━━━━━\u001b[0m\u001b[37m\u001b[0m \u001b[1m8s\u001b[0m 87ms/step - accuracy: 1.0000 - loss: 0.0768 - val_accuracy: 0.9370 - val_loss: 0.3732\n",
            "Epoch 14/20\n",
            "\u001b[1m96/96\u001b[0m \u001b[32m━━━━━━━━━━━━━━━━━━━━\u001b[0m\u001b[37m\u001b[0m \u001b[1m0s\u001b[0m 56ms/step - accuracy: 0.9992 - loss: 0.0570"
          ]
        },
        {
          "output_type": "stream",
          "name": "stderr",
          "text": [
            "WARNING:absl:You are saving your model as an HDF5 file via `model.save()` or `keras.saving.save_model(model)`. This file format is considered legacy. We recommend using instead the native Keras format, e.g. `model.save('my_model.keras')` or `keras.saving.save_model(model, 'my_model.keras')`. \n"
          ]
        },
        {
          "output_type": "stream",
          "name": "stdout",
          "text": [
            "\b\b\b\b\b\b\b\b\b\b\b\b\b\b\b\b\b\b\b\b\b\b\b\b\b\b\b\b\b\b\b\b\b\b\b\b\b\b\b\b\b\b\b\b\b\b\b\b\b\b\b\b\b\b\b\b\b\b\b\b\b\b\b\b\b\b\b\b\b\b\b\b\b\r\u001b[1m96/96\u001b[0m \u001b[32m━━━━━━━━━━━━━━━━━━━━\u001b[0m\u001b[37m\u001b[0m \u001b[1m8s\u001b[0m 86ms/step - accuracy: 0.9993 - loss: 0.0570 - val_accuracy: 0.9422 - val_loss: 0.3502\n",
            "Epoch 15/20\n",
            "\u001b[1m96/96\u001b[0m \u001b[32m━━━━━━━━━━━━━━━━━━━━\u001b[0m\u001b[37m\u001b[0m \u001b[1m0s\u001b[0m 55ms/step - accuracy: 1.0000 - loss: 0.0492"
          ]
        },
        {
          "output_type": "stream",
          "name": "stderr",
          "text": [
            "WARNING:absl:You are saving your model as an HDF5 file via `model.save()` or `keras.saving.save_model(model)`. This file format is considered legacy. We recommend using instead the native Keras format, e.g. `model.save('my_model.keras')` or `keras.saving.save_model(model, 'my_model.keras')`. \n"
          ]
        },
        {
          "output_type": "stream",
          "name": "stdout",
          "text": [
            "\b\b\b\b\b\b\b\b\b\b\b\b\b\b\b\b\b\b\b\b\b\b\b\b\b\b\b\b\b\b\b\b\b\b\b\b\b\b\b\b\b\b\b\b\b\b\b\b\b\b\b\b\b\b\b\b\b\b\b\b\b\b\b\b\b\b\b\b\b\b\b\b\b\r\u001b[1m96/96\u001b[0m \u001b[32m━━━━━━━━━━━━━━━━━━━━\u001b[0m\u001b[37m\u001b[0m \u001b[1m8s\u001b[0m 83ms/step - accuracy: 1.0000 - loss: 0.0492 - val_accuracy: 0.9475 - val_loss: 0.3345\n",
            "Epoch 16/20\n",
            "\u001b[1m96/96\u001b[0m \u001b[32m━━━━━━━━━━━━━━━━━━━━\u001b[0m\u001b[37m\u001b[0m \u001b[1m8s\u001b[0m 81ms/step - accuracy: 1.0000 - loss: 0.0407 - val_accuracy: 0.9440 - val_loss: 0.3240\n",
            "Epoch 17/20\n",
            "\u001b[1m96/96\u001b[0m \u001b[32m━━━━━━━━━━━━━━━━━━━━\u001b[0m\u001b[37m\u001b[0m \u001b[1m8s\u001b[0m 80ms/step - accuracy: 1.0000 - loss: 0.0353 - val_accuracy: 0.9440 - val_loss: 0.3149\n",
            "Epoch 18/20\n",
            "\u001b[1m96/96\u001b[0m \u001b[32m━━━━━━━━━━━━━━━━━━━━\u001b[0m\u001b[37m\u001b[0m \u001b[1m0s\u001b[0m 58ms/step - accuracy: 1.0000 - loss: 0.0304"
          ]
        },
        {
          "output_type": "stream",
          "name": "stderr",
          "text": [
            "WARNING:absl:You are saving your model as an HDF5 file via `model.save()` or `keras.saving.save_model(model)`. This file format is considered legacy. We recommend using instead the native Keras format, e.g. `model.save('my_model.keras')` or `keras.saving.save_model(model, 'my_model.keras')`. \n"
          ]
        },
        {
          "output_type": "stream",
          "name": "stdout",
          "text": [
            "\b\b\b\b\b\b\b\b\b\b\b\b\b\b\b\b\b\b\b\b\b\b\b\b\b\b\b\b\b\b\b\b\b\b\b\b\b\b\b\b\b\b\b\b\b\b\b\b\b\b\b\b\b\b\b\b\b\b\b\b\b\b\b\b\b\b\b\b\b\b\b\b\b\r\u001b[1m96/96\u001b[0m \u001b[32m━━━━━━━━━━━━━━━━━━━━\u001b[0m\u001b[37m\u001b[0m \u001b[1m8s\u001b[0m 86ms/step - accuracy: 1.0000 - loss: 0.0304 - val_accuracy: 0.9510 - val_loss: 0.2973\n",
            "Epoch 19/20\n",
            "\u001b[1m96/96\u001b[0m \u001b[32m━━━━━━━━━━━━━━━━━━━━\u001b[0m\u001b[37m\u001b[0m \u001b[1m8s\u001b[0m 82ms/step - accuracy: 1.0000 - loss: 0.0258 - val_accuracy: 0.9440 - val_loss: 0.2903\n",
            "Epoch 20/20\n",
            "\u001b[1m96/96\u001b[0m \u001b[32m━━━━━━━━━━━━━━━━━━━━\u001b[0m\u001b[37m\u001b[0m \u001b[1m0s\u001b[0m 57ms/step - accuracy: 1.0000 - loss: 0.0251"
          ]
        },
        {
          "output_type": "stream",
          "name": "stderr",
          "text": [
            "WARNING:absl:You are saving your model as an HDF5 file via `model.save()` or `keras.saving.save_model(model)`. This file format is considered legacy. We recommend using instead the native Keras format, e.g. `model.save('my_model.keras')` or `keras.saving.save_model(model, 'my_model.keras')`. \n"
          ]
        },
        {
          "output_type": "stream",
          "name": "stdout",
          "text": [
            "\b\b\b\b\b\b\b\b\b\b\b\b\b\b\b\b\b\b\b\b\b\b\b\b\b\b\b\b\b\b\b\b\b\b\b\b\b\b\b\b\b\b\b\b\b\b\b\b\b\b\b\b\b\b\b\b\b\b\b\b\b\b\b\b\b\b\b\b\b\b\b\b\b\r\u001b[1m96/96\u001b[0m \u001b[32m━━━━━━━━━━━━━━━━━━━━\u001b[0m\u001b[37m\u001b[0m \u001b[1m9s\u001b[0m 93ms/step - accuracy: 1.0000 - loss: 0.0251 - val_accuracy: 0.9545 - val_loss: 0.2793\n",
            "Epoch 1/10\n",
            "\u001b[1m96/96\u001b[0m \u001b[32m━━━━━━━━━━━━━━━━━━━━\u001b[0m\u001b[37m\u001b[0m \u001b[1m0s\u001b[0m 110ms/step - accuracy: 0.9883 - loss: 0.2225"
          ]
        },
        {
          "output_type": "stream",
          "name": "stderr",
          "text": [
            "WARNING:absl:You are saving your model as an HDF5 file via `model.save()` or `keras.saving.save_model(model)`. This file format is considered legacy. We recommend using instead the native Keras format, e.g. `model.save('my_model.keras')` or `keras.saving.save_model(model, 'my_model.keras')`. \n"
          ]
        },
        {
          "output_type": "stream",
          "name": "stdout",
          "text": [
            "\b\b\b\b\b\b\b\b\b\b\b\b\b\b\b\b\b\b\b\b\b\b\b\b\b\b\b\b\b\b\b\b\b\b\b\b\b\b\b\b\b\b\b\b\b\b\b\b\b\b\b\b\b\b\b\b\b\b\b\b\b\b\b\b\b\b\b\b\b\b\b\b\b\b\r\u001b[1m96/96\u001b[0m \u001b[32m━━━━━━━━━━━━━━━━━━━━\u001b[0m\u001b[37m\u001b[0m \u001b[1m32s\u001b[0m 200ms/step - accuracy: 0.9884 - loss: 0.2219 - val_accuracy: 0.9510 - val_loss: 0.3065\n",
            "Epoch 2/10\n",
            "\u001b[1m96/96\u001b[0m \u001b[32m━━━━━━━━━━━━━━━━━━━━\u001b[0m\u001b[37m\u001b[0m \u001b[1m0s\u001b[0m 68ms/step - accuracy: 1.0000 - loss: 0.0834"
          ]
        },
        {
          "output_type": "stream",
          "name": "stderr",
          "text": [
            "WARNING:absl:You are saving your model as an HDF5 file via `model.save()` or `keras.saving.save_model(model)`. This file format is considered legacy. We recommend using instead the native Keras format, e.g. `model.save('my_model.keras')` or `keras.saving.save_model(model, 'my_model.keras')`. \n"
          ]
        },
        {
          "output_type": "stream",
          "name": "stdout",
          "text": [
            "\b\b\b\b\b\b\b\b\b\b\b\b\b\b\b\b\b\b\b\b\b\b\b\b\b\b\b\b\b\b\b\b\b\b\b\b\b\b\b\b\b\b\b\b\b\b\b\b\b\b\b\b\b\b\b\b\b\b\b\b\b\b\b\b\b\b\b\b\b\b\b\b\b\r\u001b[1m96/96\u001b[0m \u001b[32m━━━━━━━━━━━━━━━━━━━━\u001b[0m\u001b[37m\u001b[0m \u001b[1m9s\u001b[0m 97ms/step - accuracy: 1.0000 - loss: 0.0834 - val_accuracy: 0.9615 - val_loss: 0.3038\n",
            "Epoch 3/10\n",
            "\u001b[1m96/96\u001b[0m \u001b[32m━━━━━━━━━━━━━━━━━━━━\u001b[0m\u001b[37m\u001b[0m \u001b[1m0s\u001b[0m 67ms/step - accuracy: 1.0000 - loss: 0.0570"
          ]
        },
        {
          "output_type": "stream",
          "name": "stderr",
          "text": [
            "WARNING:absl:You are saving your model as an HDF5 file via `model.save()` or `keras.saving.save_model(model)`. This file format is considered legacy. We recommend using instead the native Keras format, e.g. `model.save('my_model.keras')` or `keras.saving.save_model(model, 'my_model.keras')`. \n"
          ]
        },
        {
          "output_type": "stream",
          "name": "stdout",
          "text": [
            "\b\b\b\b\b\b\b\b\b\b\b\b\b\b\b\b\b\b\b\b\b\b\b\b\b\b\b\b\b\b\b\b\b\b\b\b\b\b\b\b\b\b\b\b\b\b\b\b\b\b\b\b\b\b\b\b\b\b\b\b\b\b\b\b\b\b\b\b\b\b\b\b\b\r\u001b[1m96/96\u001b[0m \u001b[32m━━━━━━━━━━━━━━━━━━━━\u001b[0m\u001b[37m\u001b[0m \u001b[1m9s\u001b[0m 97ms/step - accuracy: 1.0000 - loss: 0.0570 - val_accuracy: 0.9632 - val_loss: 0.2971\n",
            "Epoch 4/10\n",
            "\u001b[1m96/96\u001b[0m \u001b[32m━━━━━━━━━━━━━━━━━━━━\u001b[0m\u001b[37m\u001b[0m \u001b[1m9s\u001b[0m 89ms/step - accuracy: 1.0000 - loss: 0.0453 - val_accuracy: 0.9615 - val_loss: 0.2843\n",
            "Epoch 5/10\n",
            "\u001b[1m96/96\u001b[0m \u001b[32m━━━━━━━━━━━━━━━━━━━━\u001b[0m\u001b[37m\u001b[0m \u001b[1m10s\u001b[0m 90ms/step - accuracy: 1.0000 - loss: 0.0362 - val_accuracy: 0.9615 - val_loss: 0.2716\n",
            "Epoch 6/10\n",
            "\u001b[1m96/96\u001b[0m \u001b[32m━━━━━━━━━━━━━━━━━━━━\u001b[0m\u001b[37m\u001b[0m \u001b[1m9s\u001b[0m 91ms/step - accuracy: 1.0000 - loss: 0.0320 - val_accuracy: 0.9615 - val_loss: 0.2590\n",
            "Epoch 7/10\n",
            "\u001b[1m96/96\u001b[0m \u001b[32m━━━━━━━━━━━━━━━━━━━━\u001b[0m\u001b[37m\u001b[0m \u001b[1m9s\u001b[0m 91ms/step - accuracy: 1.0000 - loss: 0.0275 - val_accuracy: 0.9615 - val_loss: 0.2505\n",
            "Epoch 8/10\n",
            "\u001b[1m96/96\u001b[0m \u001b[32m━━━━━━━━━━━━━━━━━━━━\u001b[0m\u001b[37m\u001b[0m \u001b[1m9s\u001b[0m 95ms/step - accuracy: 1.0000 - loss: 0.0233 - val_accuracy: 0.9632 - val_loss: 0.2409\n",
            "Epoch 9/10\n",
            "\u001b[1m96/96\u001b[0m \u001b[32m━━━━━━━━━━━━━━━━━━━━\u001b[0m\u001b[37m\u001b[0m \u001b[1m9s\u001b[0m 89ms/step - accuracy: 1.0000 - loss: 0.0215 - val_accuracy: 0.9615 - val_loss: 0.2332\n",
            "Epoch 10/10\n",
            "\u001b[1m96/96\u001b[0m \u001b[32m━━━━━━━━━━━━━━━━━━━━\u001b[0m\u001b[37m\u001b[0m \u001b[1m0s\u001b[0m 67ms/step - accuracy: 1.0000 - loss: 0.0173"
          ]
        },
        {
          "output_type": "stream",
          "name": "stderr",
          "text": [
            "WARNING:absl:You are saving your model as an HDF5 file via `model.save()` or `keras.saving.save_model(model)`. This file format is considered legacy. We recommend using instead the native Keras format, e.g. `model.save('my_model.keras')` or `keras.saving.save_model(model, 'my_model.keras')`. \n"
          ]
        },
        {
          "output_type": "stream",
          "name": "stdout",
          "text": [
            "\b\b\b\b\b\b\b\b\b\b\b\b\b\b\b\b\b\b\b\b\b\b\b\b\b\b\b\b\b\b\b\b\b\b\b\b\b\b\b\b\b\b\b\b\b\b\b\b\b\b\b\b\b\b\b\b\b\b\b\b\b\b\b\b\b\b\b\b\b\b\b\b\b\r\u001b[1m96/96\u001b[0m \u001b[32m━━━━━━━━━━━━━━━━━━━━\u001b[0m\u001b[37m\u001b[0m \u001b[1m9s\u001b[0m 96ms/step - accuracy: 1.0000 - loss: 0.0173 - val_accuracy: 0.9667 - val_loss: 0.2255\n"
          ]
        }
      ]
    },
    {
      "cell_type": "code",
      "source": [
        "test_loss, test_acc = model.evaluate(test_generator, verbose=2)\n",
        "print(\"\\nTest accuracy:\", test_acc)"
      ],
      "metadata": {
        "colab": {
          "base_uri": "https://localhost:8080/"
        },
        "id": "ptEHnfBMrCb7",
        "outputId": "1ec9949a-ea31-4516-d160-d03d67a1322a"
      },
      "execution_count": 10,
      "outputs": [
        {
          "output_type": "stream",
          "name": "stderr",
          "text": [
            "/usr/local/lib/python3.11/dist-packages/keras/src/trainers/data_adapters/py_dataset_adapter.py:121: UserWarning: Your `PyDataset` class should call `super().__init__(**kwargs)` in its constructor. `**kwargs` can include `workers`, `use_multiprocessing`, `max_queue_size`. Do not pass these arguments to `fit()`, as they will be ignored.\n",
            "  self._warn_if_super_not_called()\n"
          ]
        },
        {
          "output_type": "stream",
          "name": "stdout",
          "text": [
            "34/34 - 5s - 137ms/step - accuracy: 0.9308 - loss: 0.4522\n",
            "\n",
            "Test accuracy: 0.9308411478996277\n"
          ]
        }
      ]
    },
    {
      "cell_type": "code",
      "source": [
        "!mkdir -p /content/drive/MyDrive/Iris_Model1"
      ],
      "metadata": {
        "id": "vGALItGKrolD"
      },
      "execution_count": 11,
      "outputs": []
    },
    {
      "cell_type": "code",
      "source": [
        "model.save('/content/drive/MyDrive/Iris_Model1/ResNet50_Iris3.h5')"
      ],
      "metadata": {
        "colab": {
          "base_uri": "https://localhost:8080/"
        },
        "id": "kSS907UFrr-u",
        "outputId": "2c153581-72eb-42cc-b9df-7aab1c4d47a1"
      },
      "execution_count": 12,
      "outputs": [
        {
          "output_type": "stream",
          "name": "stderr",
          "text": [
            "WARNING:absl:You are saving your model as an HDF5 file via `model.save()` or `keras.saving.save_model(model)`. This file format is considered legacy. We recommend using instead the native Keras format, e.g. `model.save('my_model.keras')` or `keras.saving.save_model(model, 'my_model.keras')`. \n"
          ]
        }
      ]
    },
    {
      "cell_type": "code",
      "source": [
        "import tensorflow as tf\n",
        "from tensorflow.keras.preprocessing.image import ImageDataGenerator\n",
        "from tensorflow.keras.applications.resnet50 import preprocess_input\n",
        "from tensorflow.keras.models import load_model\n",
        "import matplotlib.pyplot as plt\n",
        "import numpy as np\n",
        "from sklearn.metrics import confusion_matrix, classification_report\n",
        "import seaborn as sns\n",
        "from tqdm import tqdm\n",
        "import os\n",
        "import datetime\n",
        "\n",
        "def evaluate_model(model_path, test_dir, target_size=(256, 256), output_dir=\"evaluation_results\"):\n",
        "    \"\"\"\n",
        "    Evaluate a trained model on test data with comprehensive metrics and visualizations.\n",
        "    Includes detailed debugging for confusion matrix issues.\n",
        "    \"\"\"\n",
        "    try:\n",
        "        # Create output directory\n",
        "        if not os.path.exists(output_dir):\n",
        "            os.makedirs(output_dir)\n",
        "\n",
        "        # Load model\n",
        "        try:\n",
        "            model = load_model(model_path)\n",
        "            print(\"Model loaded successfully\")\n",
        "        except Exception as e:\n",
        "            print(f\"Error loading model: {str(e)}\")\n",
        "            return\n",
        "\n",
        "        # Create test data generator with consistent target size\n",
        "        test_datagen = ImageDataGenerator(preprocessing_function=preprocess_input)\n",
        "        test_generator = test_datagen.flow_from_directory(\n",
        "            test_dir,\n",
        "            target_size=target_size,\n",
        "            batch_size=16,\n",
        "            class_mode='categorical',\n",
        "            shuffle=False\n",
        "        )\n",
        "        print(f\"Found {test_generator.samples} images belonging to {len(test_generator.class_indices)} classes.\")\n",
        "\n",
        "        # Create index-to-class mapping\n",
        "        class_indices = test_generator.class_indices\n",
        "        index_to_class = {v: k for k, v in class_indices.items()}\n",
        "        class_labels = list(class_indices.keys())\n",
        "        print(f\"Class indices: {class_indices}\")\n",
        "\n",
        "        # Evaluate model to get a baseline\n",
        "        test_loss, test_acc = model.evaluate(test_generator, verbose=2)\n",
        "        print(f\"\\nTest accuracy: {test_acc:.4f}\")\n",
        "        print(f\"Test loss: {test_loss:.4f}\")\n",
        "\n",
        "        # Make predictions with explicit steps\n",
        "        test_generator.reset()\n",
        "        num_samples = test_generator.samples\n",
        "        predictions = model.predict(test_generator, steps=int(num_samples / test_generator.batch_size), verbose=1)\n",
        "        predicted_classes = np.argmax(predictions[:num_samples], axis=1)  # Ensure length matches\n",
        "        true_classes = test_generator.classes[:num_samples]\n",
        "\n",
        "        # Debugging prints\n",
        "        print(f\"Number of true classes: {len(true_classes)}\")\n",
        "        print(f\"Number of predicted classes: {len(predicted_classes)}\")\n",
        "        print(f\"Sample predictions: {predicted_classes[:10]}\")\n",
        "        print(f\"Sample true classes: {true_classes[:10]}\")\n",
        "        print(f\"Max prediction value: {np.max(predictions)}\")\n",
        "        print(f\"Min prediction value: {np.min(predictions)}\")\n",
        "\n",
        "        # Verify and adjust lengths\n",
        "        if len(true_classes) != len(predicted_classes):\n",
        "            print(f\"Warning: Mismatch in lengths - True: {len(true_classes)}, Predicted: {len(predicted_classes)}\")\n",
        "            min_length = min(len(true_classes), len(predicted_classes))\n",
        "            true_classes = true_classes[:min_length]\n",
        "            predicted_classes = predicted_classes[:min_length]\n",
        "        else:\n",
        "            print(\"Lengths match successfully\")\n",
        "\n",
        "        # Calculate confusion matrix\n",
        "        cm = confusion_matrix(true_classes, predicted_classes)\n",
        "        print(f\"Confusion matrix shape: {cm.shape}\")\n",
        "        print(f\"Confusion matrix content:\\n{cm}\")\n",
        "\n",
        "        # Plot full confusion matrix for first 10 classes\n",
        "        plt.figure(figsize=(12, 10))\n",
        "        sns.heatmap(cm[:10, :10], annot=True, fmt='d', cmap='Blues',  # Limit to 10x10 for readability\n",
        "                    xticklabels=class_labels[:10],\n",
        "                    yticklabels=class_labels[:10])\n",
        "        plt.title('Confusion Matrix (First 10 Classes)')\n",
        "        plt.ylabel('True Label')\n",
        "        plt.xlabel('Predicted Label')\n",
        "        plt.savefig(os.path.join(output_dir, 'confusion_matrix.png'))\n",
        "        plt.close()\n",
        "\n",
        "        # Calculate and save classification report\n",
        "        print(\"\\nClassification Report:\")\n",
        "        print(classification_report(true_classes, predicted_classes, target_names=class_labels, zero_division=0))\n",
        "        with open(os.path.join(output_dir, 'classification_report.txt'), 'w') as f:\n",
        "            f.write(classification_report(true_classes, predicted_classes, target_names=class_labels, zero_division=0))\n",
        "\n",
        "        # Save overall metrics\n",
        "        accuracy = np.mean(predicted_classes == true_classes)\n",
        "        metrics = {\n",
        "            'test_accuracy': test_acc,\n",
        "            'test_loss': test_loss,\n",
        "            'overall_accuracy': accuracy,\n",
        "            'timestamp': datetime.datetime.now().strftime(\"%Y-%m-%d %H:%M:%S\")\n",
        "        }\n",
        "        with open(os.path.join(output_dir, 'metrics.txt'), 'w') as f:\n",
        "            for key, value in metrics.items():\n",
        "                f.write(f\"{key}: {value}\\n\")\n",
        "\n",
        "        print(f\"\\nOverall Accuracy: {accuracy:.4f}\")\n",
        "        print(f\"Evaluation results saved in {output_dir}\")\n",
        "\n",
        "    except Exception as e:\n",
        "        print(f\"An unexpected error occurred: {str(e)}\")\n",
        "\n",
        "if __name__ == \"__main__\":\n",
        "    model_path = '/content/drive/MyDrive/Iris_Model1/ResNet50_Iris3.h5'\n",
        "    test_dir = \"/content/split_dataset/test\"\n",
        "    evaluate_model(model_path, test_dir, target_size=(256, 256))"
      ],
      "metadata": {
        "colab": {
          "base_uri": "https://localhost:8080/"
        },
        "id": "CFNzVRZErvOf",
        "outputId": "6b3612ae-4636-404d-ec42-2bcb79a2d34e"
      },
      "execution_count": 13,
      "outputs": [
        {
          "output_type": "stream",
          "name": "stderr",
          "text": [
            "WARNING:absl:Compiled the loaded model, but the compiled metrics have yet to be built. `model.compile_metrics` will be empty until you train or evaluate the model.\n"
          ]
        },
        {
          "output_type": "stream",
          "name": "stdout",
          "text": [
            "Model loaded successfully\n",
            "Found 535 images belonging to 240 classes.\n"
          ]
        },
        {
          "output_type": "stream",
          "name": "stderr",
          "text": [
            "/usr/local/lib/python3.11/dist-packages/keras/src/trainers/data_adapters/py_dataset_adapter.py:121: UserWarning: Your `PyDataset` class should call `super().__init__(**kwargs)` in its constructor. `**kwargs` can include `workers`, `use_multiprocessing`, `max_queue_size`. Do not pass these arguments to `fit()`, as they will be ignored.\n",
            "  self._warn_if_super_not_called()\n"
          ]
        },
        {
          "output_type": "stream",
          "name": "stdout",
          "text": [
            "Found 535 images belonging to 240 classes.\n",
            "Class indices: {'001': 0, '002': 1, '003': 2, '004': 3, '005': 4, '006': 5, '007': 6, '008': 7, '009': 8, '010': 9, '011': 10, '012': 11, '013': 12, '014': 13, '015': 14, '016': 15, '017': 16, '018': 17, '019': 18, '020': 19, '021': 20, '022': 21, '023': 22, '024': 23, '025': 24, '026': 25, '027': 26, '028': 27, '029': 28, '030': 29, '031': 30, '032': 31, '033': 32, '034': 33, '035': 34, '036': 35, '037': 36, '038': 37, '039': 38, '040': 39, '041': 40, '042': 41, '043': 42, '044': 43, '045': 44, '046': 45, '047': 46, '048': 47, '049': 48, '050': 49, '051': 50, '052': 51, '053': 52, '054': 53, '055': 54, '056': 55, '057': 56, '058': 57, '059': 58, '060': 59, '061': 60, '062': 61, '063': 62, '064': 63, '065': 64, '066': 65, '067': 66, '068': 67, '069': 68, '070': 69, '071': 70, '072': 71, '073': 72, '074': 73, '075': 74, '076': 75, '077': 76, '078': 77, '079': 78, '080': 79, '081': 80, '082': 81, '083': 82, '084': 83, '085': 84, '086': 85, '087': 86, '088': 87, '089': 88, '090': 89, '091': 90, '092': 91, '093': 92, '094': 93, '095': 94, '096': 95, '097': 96, '098': 97, '099': 98, '100': 99, '101': 100, '102': 101, '103': 102, '104': 103, '105': 104, '106': 105, '107': 106, '108': 107, '109': 108, '110': 109, '111': 110, '112': 111, '113': 112, '114': 113, '115': 114, '116': 115, '117': 116, '118': 117, '119': 118, '120': 119, '121': 120, '122': 121, '123': 122, '124': 123, '125': 124, '126': 125, '127': 126, '128': 127, '129': 128, '130': 129, '131': 130, '132': 131, '133': 132, '134': 133, '135': 134, '136': 135, '137': 136, '138': 137, '139': 138, '140': 139, '141': 140, '142': 141, '143': 142, '144': 143, '145': 144, '146': 145, '147': 146, '148': 147, '149': 148, '150': 149, '151': 150, '152': 151, '153': 152, '154': 153, '155': 154, '156': 155, '157': 156, '158': 157, '159': 158, '160': 159, '161': 160, '162': 161, '163': 162, '164': 163, '165': 164, '166': 165, '167': 166, '168': 167, '169': 168, '170': 169, '171': 170, '172': 171, '173': 172, '174': 173, '175': 174, '176': 175, '177': 176, '178': 177, '179': 178, '180': 179, '181': 180, '182': 181, '183': 182, '184': 183, '185': 184, '186': 185, '187': 186, '188': 187, '189': 188, '190': 189, '191': 190, '192': 191, '193': 192, '194': 193, '195': 194, '196': 195, '197': 196, '198': 197, '199': 198, '200': 199, '201': 200, '202': 201, '203': 202, '204': 203, '205': 204, '206': 205, '207': 206, '208': 207, '209': 208, '210': 209, '211': 210, '212': 211, '213': 212, '214': 213, '215': 214, '216': 215, '217': 216, '218': 217, '219': 218, '220': 219, '221': 220, '222': 221, '223': 222, '224': 223, '225': 224, '226': 225, '227': 226, '228': 227, '229': 228, '230': 229, '231': 230, '232': 231, '233': 232, '234': 233, '235': 234, '236': 235, '237': 236, '238': 237, '239': 238, '240': 239}\n",
            "34/34 - 8s - 233ms/step - accuracy: 0.9308 - loss: 0.4522\n",
            "\n",
            "Test accuracy: 0.9308\n",
            "Test loss: 0.4522\n",
            "\u001b[1m33/33\u001b[0m \u001b[32m━━━━━━━━━━━━━━━━━━━━\u001b[0m\u001b[37m\u001b[0m \u001b[1m6s\u001b[0m 67ms/step\n",
            "Number of true classes: 535\n",
            "Number of predicted classes: 528\n",
            "Sample predictions: [  0   0   0   1   1   1   2   2 172   3]\n",
            "Sample true classes: [0 0 0 1 1 1 2 2 3 3]\n",
            "Max prediction value: 0.999616265296936\n",
            "Min prediction value: 1.1036348023614126e-14\n",
            "Warning: Mismatch in lengths - True: 535, Predicted: 528\n",
            "Confusion matrix shape: (235, 235)\n",
            "Confusion matrix content:\n",
            "[[3 0 0 ... 0 0 0]\n",
            " [0 3 0 ... 0 0 0]\n",
            " [0 0 2 ... 0 0 0]\n",
            " ...\n",
            " [0 0 0 ... 2 0 0]\n",
            " [0 0 0 ... 0 1 0]\n",
            " [0 0 0 ... 0 0 1]]\n",
            "\n",
            "Classification Report:\n",
            "An unexpected error occurred: Number of classes, 235, does not match size of target_names, 240. Try specifying the labels parameter\n"
          ]
        }
      ]
    },
    {
      "cell_type": "code",
      "source": [
        "import pandas as pd\n",
        "import matplotlib.pyplot as plt\n",
        "import tensorflow as tf\n",
        "\n",
        "# Create a results dictionary from history object\n",
        "results = {\n",
        "    'epoch': list(range(1, len(history.history['accuracy']) + 1)),\n",
        "    'accuracy': history.history['accuracy'],\n",
        "    'val_accuracy': history.history['val_accuracy'],\n",
        "    'loss': history.history['loss'],\n",
        "    'val_loss': history.history['val_loss'],\n",
        "    'learning_rate': [float(tf.keras.backend.get_value(model.optimizer.learning_rate))] * len(history.history['accuracy'])\n",
        "}\n",
        "\n",
        "# Create a DataFrame\n",
        "results_df = pd.DataFrame(results)\n",
        "print(results_df)\n",
        "\n",
        "# Save to CSV (optional)\n",
        "results_df.to_csv(\"evaluation_results/training_metrics_table.csv\", index=False)\n",
        "\n",
        "# Plot Epoch vs. Loss\n",
        "plt.figure(figsize=(10, 5))\n",
        "plt.plot(results['epoch'], results['loss'], label='Training Loss')\n",
        "plt.plot(results['epoch'], results['val_loss'], label='Validation Loss')\n",
        "plt.xlabel('Epoch')\n",
        "plt.ylabel('Loss')\n",
        "plt.title('Epoch vs Loss')\n",
        "plt.legend()\n",
        "plt.grid(True)\n",
        "plt.savefig(\"evaluation_results/epoch_vs_loss.png\")\n",
        "plt.show()\n",
        "\n",
        "# Plot Epoch vs. Accuracy\n",
        "plt.figure(figsize=(10, 5))\n",
        "plt.plot(results['epoch'], results['accuracy'], label='Training Accuracy')\n",
        "plt.plot(results['epoch'], results['val_accuracy'], label='Validation Accuracy')\n",
        "plt.xlabel('Epoch')\n",
        "plt.ylabel('Accuracy')\n",
        "plt.title('Epoch vs Accuracy')\n",
        "plt.legend()\n",
        "plt.grid(True)\n",
        "plt.savefig(\"evaluation_results/epoch_vs_accuracy.png\")\n",
        "plt.show()"
      ],
      "metadata": {
        "colab": {
          "base_uri": "https://localhost:8080/",
          "height": 1000
        },
        "id": "kxKu1a5Er1dc",
        "outputId": "00d5c796-861c-41bf-aac1-da795606daed"
      },
      "execution_count": 14,
      "outputs": [
        {
          "output_type": "stream",
          "name": "stdout",
          "text": [
            "    epoch  accuracy  val_accuracy      loss  val_loss  learning_rate\n",
            "0       1  0.056099      0.222417  5.254959  4.303449        0.00001\n",
            "1       2  0.286367      0.451839  3.777846  3.091942        0.00001\n",
            "2       3  0.562296      0.633976  2.497107  2.150075        0.00001\n",
            "3       4  0.746902      0.719790  1.596693  1.572341        0.00001\n",
            "4       5  0.882583      0.840630  0.987423  1.166683        0.00001\n",
            "5       6  0.939335      0.865149  0.647326  0.920826        0.00001\n",
            "6       7  0.967384      0.905429  0.441616  0.739763        0.00001\n",
            "7       8  0.984344      0.908932  0.299253  0.633900        0.00001\n",
            "8       9  0.993477      0.926445  0.206317  0.541668        0.00001\n",
            "9      10  0.995434      0.921191  0.157372  0.497526        0.00001\n",
            "10     11  0.999348      0.935201  0.117427  0.442861        0.00001\n",
            "11     12  0.998043      0.926445  0.090570  0.413806        0.00001\n",
            "12     13  1.000000      0.936953  0.074385  0.373226        0.00001\n",
            "13     14  0.999348      0.942207  0.059586  0.350163        0.00001\n",
            "14     15  1.000000      0.947461  0.050135  0.334506        0.00001\n",
            "15     16  1.000000      0.943958  0.041618  0.324021        0.00001\n",
            "16     17  1.000000      0.943958  0.035453  0.314918        0.00001\n",
            "17     18  1.000000      0.950963  0.030893  0.297305        0.00001\n",
            "18     19  1.000000      0.943958  0.026974  0.290252        0.00001\n",
            "19     20  1.000000      0.954466  0.025163  0.279304        0.00001\n"
          ]
        },
        {
          "output_type": "display_data",
          "data": {
            "text/plain": [
              "<Figure size 1000x500 with 1 Axes>"
            ],
            "image/png": "[encoded data removed]"
          },
          "metadata": {}
        },
        {
          "output_type": "display_data",
          "data": {
            "text/plain": [
              "<Figure size 1000x500 with 1 Axes>"
            ],
            "image/png": "[encoded data removed]"
          },
          "metadata": {}
        }
      ]
    }
  ]
}